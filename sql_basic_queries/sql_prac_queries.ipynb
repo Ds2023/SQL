{
  "nbformat": 4,
  "nbformat_minor": 0,
  "metadata": {
    "colab": {
      "provenance": []
    },
    "kernelspec": {
      "name": "python3",
      "display_name": "Python 3"
    },
    "language_info": {
      "name": "python"
    }
  },
  "cells": [
    {
      "cell_type": "code",
      "execution_count": 1,
      "metadata": {
        "id": "INrNdsv2AJze"
      },
      "outputs": [],
      "source": [
        "import sqlite3"
      ]
    },
    {
      "cell_type": "code",
      "source": [
        "connection = sqlite3.connect('prac.db')\n",
        "\n",
        "cursor = connection.cursor()"
      ],
      "metadata": {
        "id": "Hq5HBHJ5Og_q"
      },
      "execution_count": 2,
      "outputs": []
    },
    {
      "cell_type": "code",
      "source": [
        "cursor.execute(f\"\"\"CREATE TABLE Worker(\n",
        "  Worker_ID INTEGER NOT NULL PRIMARY KEY AUTOINCREMENT,\n",
        "  First_Name VARCHAR(25),\n",
        "  Last_Name VARCHAR(25),\n",
        "  Salary INT(15),\n",
        "  Joining_Date DATETIME,\n",
        "  Department VARCHAR(25))\"\"\")"
      ],
      "metadata": {
        "colab": {
          "base_uri": "https://localhost:8080/"
        },
        "id": "yW_8j-oyPBQ4",
        "outputId": "0f884e07-9e6e-47db-c339-f65021f5970b"
      },
      "execution_count": 3,
      "outputs": [
        {
          "output_type": "execute_result",
          "data": {
            "text/plain": [
              "<sqlite3.Cursor at 0x7e305bec4540>"
            ]
          },
          "metadata": {},
          "execution_count": 3
        }
      ]
    },
    {
      "cell_type": "code",
      "source": [
        "cursor.execute(f\"\"\"CREATE TABLE Bonus(\n",
        " Worker_Ref_Id INT,\n",
        " Bonus_Amount INT(10),\n",
        " Bonus_Date DATETIME,\n",
        " FOREIGN KEY (Worker_Ref_Id)\n",
        " REFERENCES Worker(Worker_ID)\n",
        " ON DELETE CASCADE)\"\"\")"
      ],
      "metadata": {
        "colab": {
          "base_uri": "https://localhost:8080/"
        },
        "id": "hNNHUMHIg5kp",
        "outputId": "77448b75-6089-4452-8532-654c8cebe3c9"
      },
      "execution_count": 4,
      "outputs": [
        {
          "output_type": "execute_result",
          "data": {
            "text/plain": [
              "<sqlite3.Cursor at 0x7e305bec4540>"
            ]
          },
          "metadata": {},
          "execution_count": 4
        }
      ]
    },
    {
      "cell_type": "code",
      "source": [
        "cursor.execute(f\"\"\"CREATE TABLE Title(\n",
        "\tWorker_Ref_Id INT,\n",
        "\tWorker_Title VARCHAR(25),\n",
        "\tAffected_From DATETIME,\n",
        "\tFOREIGN KEY (Worker_Ref_Id)\n",
        "\tREFERENCES Worker(Worker_Id)\n",
        "  ON DELETE CASCADE\n",
        ")\"\"\")"
      ],
      "metadata": {
        "colab": {
          "base_uri": "https://localhost:8080/"
        },
        "id": "GIE0sMO3inzE",
        "outputId": "96c73b9f-05e1-4cbb-d0c2-2fc2e5df1dd0"
      },
      "execution_count": 5,
      "outputs": [
        {
          "output_type": "execute_result",
          "data": {
            "text/plain": [
              "<sqlite3.Cursor at 0x7e305bec4540>"
            ]
          },
          "metadata": {},
          "execution_count": 5
        }
      ]
    },
    {
      "cell_type": "markdown",
      "source": [
        "**Populating the database**"
      ],
      "metadata": {
        "id": "TO0SuKsplFgO"
      }
    },
    {
      "cell_type": "code",
      "source": [
        "cursor.execute(f\"\"\"INSERT INTO Worker\n",
        "\t(Worker_Id, First_Name, Last_Name, Salary, Joining_Date, Department) VALUES\n",
        "\t\t(001, 'Monika', 'Arora', 100000, '14-02-20 09.00.00', 'HR'),\n",
        "\t\t(002, 'Niharika', 'Verma', 80000, '14-06-11 09.00.00', 'Admin'),\n",
        "\t\t(003, 'Vishal', 'Singhal', 300000, '14-02-20 09.00.00', 'HR'),\n",
        "\t\t(004, 'Amitabh', 'Singh', 500000, '14-02-20 09.00.00', 'Admin'),\n",
        "\t\t(005, 'Vivek', 'Bhati', 500000, '14-06-11 09.00.00', 'Admin'),\n",
        "\t\t(006, 'Vipul', 'Diwan', 200000, '14-06-11 09.00.00', 'Account'),\n",
        "\t\t(007, 'Satish', 'Kumar', 75000, '14-01-20 09.00.00', 'Account'),\n",
        "\t\t(008, 'Geetika', 'Chauhan', 90000, '14-04-11 09.00.00', 'Admin')\n",
        "\"\"\")\n",
        "\n",
        "\n",
        "cursor.execute(f\"\"\"INSERT INTO Bonus\n",
        "\t(WORKER_REF_ID, BONUS_AMOUNT, BONUS_DATE) VALUES\n",
        "\t\t(001, 5000, '16-02-20'),\n",
        "\t\t(002, 3000, '16-06-11'),\n",
        "\t\t(003, 4000, '16-02-20'),\n",
        "\t\t(001, 4500, '16-02-20'),\n",
        "\t\t(002, 3500, '16-06-11')\n",
        " \"\"\")\n",
        "\n",
        "\n",
        "cursor.execute(f\"\"\"INSERT INTO Title\n",
        "\t(WORKER_REF_ID, WORKER_TITLE, AFFECTED_FROM) VALUES\n",
        " (001, 'Manager', '2016-02-20 00:00:00'),\n",
        " (002, 'Executive', '2016-06-11 00:00:00'),\n",
        " (008, 'Executive', '2016-06-11 00:00:00'),\n",
        " (005, 'Manager', '2016-06-11 00:00:00'),\n",
        " (004, 'Asst. Manager', '2016-06-11 00:00:00'),\n",
        " (007, 'Executive', '2016-06-11 00:00:00'),\n",
        " (006, 'Lead', '2016-06-11 00:00:00'),\n",
        " (003, 'Lead', '2016-06-11 00:00:00')\n",
        " \"\"\")"
      ],
      "metadata": {
        "colab": {
          "base_uri": "https://localhost:8080/"
        },
        "id": "PHOFTLIKAT4A",
        "outputId": "cd02447e-1094-451b-fa19-f370e67867c4"
      },
      "execution_count": 6,
      "outputs": [
        {
          "output_type": "execute_result",
          "data": {
            "text/plain": [
              "<sqlite3.Cursor at 0x7e305bec4540>"
            ]
          },
          "metadata": {},
          "execution_count": 6
        }
      ]
    },
    {
      "cell_type": "markdown",
      "source": [
        "**Queries**"
      ],
      "metadata": {
        "id": "scuTfwcvo0pp"
      }
    },
    {
      "cell_type": "markdown",
      "source": [
        "**Selecting Everything from our tables.**"
      ],
      "metadata": {
        "id": "EhVcO8ZUpyMY"
      }
    },
    {
      "cell_type": "code",
      "source": [
        "# Worker Table\n",
        "cursor.execute(\"select * from Worker\")\n",
        "results = cursor.fetchall()\n",
        "for row in results:\n",
        "  print(row)"
      ],
      "metadata": {
        "colab": {
          "base_uri": "https://localhost:8080/"
        },
        "id": "gdE6bubpATor",
        "outputId": "f7be3ded-225c-44a1-8b29-47e456868ce9"
      },
      "execution_count": 7,
      "outputs": [
        {
          "output_type": "stream",
          "name": "stdout",
          "text": [
            "(1, 'Monika', 'Arora', 100000, '14-02-20 09.00.00', 'HR')\n",
            "(2, 'Niharika', 'Verma', 80000, '14-06-11 09.00.00', 'Admin')\n",
            "(3, 'Vishal', 'Singhal', 300000, '14-02-20 09.00.00', 'HR')\n",
            "(4, 'Amitabh', 'Singh', 500000, '14-02-20 09.00.00', 'Admin')\n",
            "(5, 'Vivek', 'Bhati', 500000, '14-06-11 09.00.00', 'Admin')\n",
            "(6, 'Vipul', 'Diwan', 200000, '14-06-11 09.00.00', 'Account')\n",
            "(7, 'Satish', 'Kumar', 75000, '14-01-20 09.00.00', 'Account')\n",
            "(8, 'Geetika', 'Chauhan', 90000, '14-04-11 09.00.00', 'Admin')\n"
          ]
        }
      ]
    },
    {
      "cell_type": "code",
      "source": [
        "# Bonus Table\n",
        "cursor.execute(\"select * from Bonus\")\n",
        "results = cursor.fetchall()\n",
        "for row in results:\n",
        "  print(row)"
      ],
      "metadata": {
        "colab": {
          "base_uri": "https://localhost:8080/"
        },
        "id": "1NSNWmeKpkge",
        "outputId": "2ede8c11-b1b6-4c3d-872a-9676140882b3"
      },
      "execution_count": 8,
      "outputs": [
        {
          "output_type": "stream",
          "name": "stdout",
          "text": [
            "(1, 5000, '16-02-20')\n",
            "(2, 3000, '16-06-11')\n",
            "(3, 4000, '16-02-20')\n",
            "(1, 4500, '16-02-20')\n",
            "(2, 3500, '16-06-11')\n"
          ]
        }
      ]
    },
    {
      "cell_type": "code",
      "source": [
        "# Title Table\n",
        "cursor.execute(\"select * from Title\")\n",
        "results = cursor.fetchall()\n",
        "for row in results:\n",
        "  print(row)"
      ],
      "metadata": {
        "colab": {
          "base_uri": "https://localhost:8080/"
        },
        "id": "km5aqvyGATlJ",
        "outputId": "8914fef5-c3ba-4d2c-fa54-a30032382de5"
      },
      "execution_count": 9,
      "outputs": [
        {
          "output_type": "stream",
          "name": "stdout",
          "text": [
            "(1, 'Manager', '2016-02-20 00:00:00')\n",
            "(2, 'Executive', '2016-06-11 00:00:00')\n",
            "(8, 'Executive', '2016-06-11 00:00:00')\n",
            "(5, 'Manager', '2016-06-11 00:00:00')\n",
            "(4, 'Asst. Manager', '2016-06-11 00:00:00')\n",
            "(7, 'Executive', '2016-06-11 00:00:00')\n",
            "(6, 'Lead', '2016-06-11 00:00:00')\n",
            "(3, 'Lead', '2016-06-11 00:00:00')\n"
          ]
        }
      ]
    },
    {
      "cell_type": "code",
      "source": [
        "# Write an SQL query to fetch “FIRST_NAME” from the Worker table using the alias name <WORKER_NAME>.\n",
        "\n",
        "cursor.execute(\"select First_Name as Worker_Name from Worker\").fetchall()"
      ],
      "metadata": {
        "colab": {
          "base_uri": "https://localhost:8080/"
        },
        "id": "wcXp_EgiAThD",
        "outputId": "f1352b7e-53dc-4e1d-b2bb-50d9e854addd"
      },
      "execution_count": 10,
      "outputs": [
        {
          "output_type": "execute_result",
          "data": {
            "text/plain": [
              "[('Monika',),\n",
              " ('Niharika',),\n",
              " ('Vishal',),\n",
              " ('Amitabh',),\n",
              " ('Vivek',),\n",
              " ('Vipul',),\n",
              " ('Satish',),\n",
              " ('Geetika',)]"
            ]
          },
          "metadata": {},
          "execution_count": 10
        }
      ]
    },
    {
      "cell_type": "code",
      "source": [
        "# Write an SQL query to fetch “FIRST_NAME” from the Worker table in upper case.\n",
        "\n",
        "cursor.execute(\"select upper(First_Name) from Worker\").fetchall()"
      ],
      "metadata": {
        "colab": {
          "base_uri": "https://localhost:8080/"
        },
        "id": "Yw66xdLbATd0",
        "outputId": "ecb93000-7702-4f70-a578-a1725a1d7238"
      },
      "execution_count": 11,
      "outputs": [
        {
          "output_type": "execute_result",
          "data": {
            "text/plain": [
              "[('MONIKA',),\n",
              " ('NIHARIKA',),\n",
              " ('VISHAL',),\n",
              " ('AMITABH',),\n",
              " ('VIVEK',),\n",
              " ('VIPUL',),\n",
              " ('SATISH',),\n",
              " ('GEETIKA',)]"
            ]
          },
          "metadata": {},
          "execution_count": 11
        }
      ]
    },
    {
      "cell_type": "code",
      "source": [
        "# Write an SQL query to fetch unique values of DEPARTMENT from the Worker table.\n",
        "\n",
        "cursor.execute(\"select distinct Department from Worker\").fetchall()"
      ],
      "metadata": {
        "colab": {
          "base_uri": "https://localhost:8080/"
        },
        "id": "hxJ-_GYGATaW",
        "outputId": "ab561525-ba44-4526-f4c9-8b5bede0b205"
      },
      "execution_count": 12,
      "outputs": [
        {
          "output_type": "execute_result",
          "data": {
            "text/plain": [
              "[('HR',), ('Admin',), ('Account',)]"
            ]
          },
          "metadata": {},
          "execution_count": 12
        }
      ]
    },
    {
      "cell_type": "code",
      "source": [
        "# Write an SQL query to print the first three characters of  FIRST_NAME from the Worker table.\n",
        "\n",
        "cursor.execute(\"select substring(First_Name,1,3) from Worker\").fetchall()"
      ],
      "metadata": {
        "colab": {
          "base_uri": "https://localhost:8080/"
        },
        "id": "MbRr7p0vATWy",
        "outputId": "6bb5de02-b78a-4dd3-c5a6-23c3e46783b7"
      },
      "execution_count": 14,
      "outputs": [
        {
          "output_type": "execute_result",
          "data": {
            "text/plain": [
              "[('Mon',),\n",
              " ('Nih',),\n",
              " ('Vis',),\n",
              " ('Ami',),\n",
              " ('Viv',),\n",
              " ('Vip',),\n",
              " ('Sat',),\n",
              " ('Gee',)]"
            ]
          },
          "metadata": {},
          "execution_count": 14
        }
      ]
    },
    {
      "cell_type": "code",
      "source": [
        "# Write an SQL query to find the position of the alphabet (‘a’) in the first name column ‘Amitabh’ from the Worker table.\n",
        "\n",
        "cursor.execute(\"select instr(First_Name, 'a') AS position from Worker WHERE First_Name = 'Amitabh'\").fetchall()"
      ],
      "metadata": {
        "colab": {
          "base_uri": "https://localhost:8080/"
        },
        "id": "Es-gPXKZATSy",
        "outputId": "7f98ef4d-b552-4411-e4d6-fc7bfc3ac312"
      },
      "execution_count": 17,
      "outputs": [
        {
          "output_type": "execute_result",
          "data": {
            "text/plain": [
              "[(5,)]"
            ]
          },
          "metadata": {},
          "execution_count": 17
        }
      ]
    },
    {
      "cell_type": "code",
      "source": [
        "# Write an SQL query to print the FIRST_NAME from the Worker table after removing white spaces from the right side.\n",
        "\n",
        "cursor.execute(\"select rtrim(First_Name) from Worker\").fetchall()"
      ],
      "metadata": {
        "colab": {
          "base_uri": "https://localhost:8080/"
        },
        "id": "BN8JtaxsATPv",
        "outputId": "736e304c-fef3-45b3-d970-b41f1bd5bf0e"
      },
      "execution_count": 18,
      "outputs": [
        {
          "output_type": "execute_result",
          "data": {
            "text/plain": [
              "[('Monika',),\n",
              " ('Niharika',),\n",
              " ('Vishal',),\n",
              " ('Amitabh',),\n",
              " ('Vivek',),\n",
              " ('Vipul',),\n",
              " ('Satish',),\n",
              " ('Geetika',)]"
            ]
          },
          "metadata": {},
          "execution_count": 18
        }
      ]
    },
    {
      "cell_type": "code",
      "source": [
        "# Write an SQL query to print the DEPARTMENT from the Worker table after removing white spaces from the left side.\n",
        "\n",
        "cursor.execute(\"select ltrim(Department) from Worker\").fetchall()"
      ],
      "metadata": {
        "colab": {
          "base_uri": "https://localhost:8080/"
        },
        "id": "QPmZesnAATLm",
        "outputId": "a4021c83-f86d-4088-adcf-eaa3b7f308ba"
      },
      "execution_count": 19,
      "outputs": [
        {
          "output_type": "execute_result",
          "data": {
            "text/plain": [
              "[('HR',),\n",
              " ('Admin',),\n",
              " ('HR',),\n",
              " ('Admin',),\n",
              " ('Admin',),\n",
              " ('Account',),\n",
              " ('Account',),\n",
              " ('Admin',)]"
            ]
          },
          "metadata": {},
          "execution_count": 19
        }
      ]
    },
    {
      "cell_type": "code",
      "source": [
        "# Write an SQL query that fetches the unique values of DEPARTMENT from the Worker table and prints its length.\n",
        "\n",
        "cursor.execute(\"select distinct length(Department) from Worker\").fetchall()"
      ],
      "metadata": {
        "colab": {
          "base_uri": "https://localhost:8080/"
        },
        "id": "6K9fS2fiATID",
        "outputId": "2ada2fab-63d4-4e9b-d2e4-3e48ed5e4e29"
      },
      "execution_count": 20,
      "outputs": [
        {
          "output_type": "execute_result",
          "data": {
            "text/plain": [
              "[(2,), (5,), (7,)]"
            ]
          },
          "metadata": {},
          "execution_count": 20
        }
      ]
    },
    {
      "cell_type": "code",
      "source": [
        "# Write an SQL query to print the FIRST_NAME from the Worker table after replacing ‘a’ with ‘A’\n",
        "\n",
        "cursor.execute(\"select replace(First_Name,'a','A') from Worker\").fetchall()"
      ],
      "metadata": {
        "colab": {
          "base_uri": "https://localhost:8080/"
        },
        "id": "aSufv8vaATEN",
        "outputId": "aaf5bdd0-23d1-4d0a-dc2f-d986c70cc3c8"
      },
      "execution_count": 22,
      "outputs": [
        {
          "output_type": "execute_result",
          "data": {
            "text/plain": [
              "[('MonikA',),\n",
              " ('NihArikA',),\n",
              " ('VishAl',),\n",
              " ('AmitAbh',),\n",
              " ('Vivek',),\n",
              " ('Vipul',),\n",
              " ('SAtish',),\n",
              " ('GeetikA',)]"
            ]
          },
          "metadata": {},
          "execution_count": 22
        }
      ]
    },
    {
      "cell_type": "code",
      "source": [
        "# Write an SQL query to print the FIRST_NAME and LAST_NAME from the Worker table\n",
        "#into a single column COMPLETE_NAME. A space char should separate them.\n",
        "\n",
        "cursor.execute(\"Select First_Name || ' ' || Last_Name AS complete_name from Worker\").fetchall()\n"
      ],
      "metadata": {
        "colab": {
          "base_uri": "https://localhost:8080/"
        },
        "id": "xwr20rJgATBC",
        "outputId": "5cd20fb0-fe2c-4bf7-ab12-19655084fdf5"
      },
      "execution_count": 30,
      "outputs": [
        {
          "output_type": "execute_result",
          "data": {
            "text/plain": [
              "[('Monika Arora',),\n",
              " ('Niharika Verma',),\n",
              " ('Vishal Singhal',),\n",
              " ('Amitabh Singh',),\n",
              " ('Vivek Bhati',),\n",
              " ('Vipul Diwan',),\n",
              " ('Satish Kumar',),\n",
              " ('Geetika Chauhan',)]"
            ]
          },
          "metadata": {},
          "execution_count": 30
        }
      ]
    },
    {
      "cell_type": "code",
      "source": [],
      "metadata": {
        "id": "ppDmYYlTAS8J"
      },
      "execution_count": null,
      "outputs": []
    },
    {
      "cell_type": "code",
      "source": [],
      "metadata": {
        "id": "xyrJL8ICAS4i"
      },
      "execution_count": null,
      "outputs": []
    },
    {
      "cell_type": "code",
      "source": [],
      "metadata": {
        "id": "HRQF42zcAS1Y"
      },
      "execution_count": null,
      "outputs": []
    },
    {
      "cell_type": "code",
      "source": [],
      "metadata": {
        "id": "JdDn2Ft-ASwv"
      },
      "execution_count": null,
      "outputs": []
    },
    {
      "cell_type": "code",
      "source": [],
      "metadata": {
        "id": "qhMdfwp3AStS"
      },
      "execution_count": null,
      "outputs": []
    },
    {
      "cell_type": "code",
      "source": [],
      "metadata": {
        "id": "OEJs1vo8ASqQ"
      },
      "execution_count": null,
      "outputs": []
    },
    {
      "cell_type": "code",
      "source": [],
      "metadata": {
        "id": "Q-hacrW8ASnM"
      },
      "execution_count": null,
      "outputs": []
    },
    {
      "cell_type": "code",
      "source": [],
      "metadata": {
        "id": "8WcePBCMASW-"
      },
      "execution_count": null,
      "outputs": []
    },
    {
      "cell_type": "code",
      "source": [],
      "metadata": {
        "id": "HnN_EHR_ASKx"
      },
      "execution_count": null,
      "outputs": []
    },
    {
      "cell_type": "code",
      "source": [],
      "metadata": {
        "id": "8zC4-EquASAa"
      },
      "execution_count": null,
      "outputs": []
    },
    {
      "cell_type": "code",
      "source": [],
      "metadata": {
        "id": "p02d0MT_AR4G"
      },
      "execution_count": null,
      "outputs": []
    },
    {
      "cell_type": "code",
      "source": [],
      "metadata": {
        "id": "je0JHyGLARx9"
      },
      "execution_count": null,
      "outputs": []
    },
    {
      "cell_type": "code",
      "source": [],
      "metadata": {
        "id": "t3kOJstmARlk"
      },
      "execution_count": null,
      "outputs": []
    },
    {
      "cell_type": "code",
      "source": [],
      "metadata": {
        "id": "-C-KXujGARak"
      },
      "execution_count": null,
      "outputs": []
    },
    {
      "cell_type": "code",
      "source": [],
      "metadata": {
        "id": "eEfFhEbDARPV"
      },
      "execution_count": null,
      "outputs": []
    },
    {
      "cell_type": "code",
      "source": [],
      "metadata": {
        "id": "F9EreaONARMj"
      },
      "execution_count": null,
      "outputs": []
    },
    {
      "cell_type": "code",
      "source": [],
      "metadata": {
        "id": "zDv8knmvARJ8"
      },
      "execution_count": null,
      "outputs": []
    },
    {
      "cell_type": "code",
      "source": [],
      "metadata": {
        "id": "LhZFb_ttARG4"
      },
      "execution_count": null,
      "outputs": []
    },
    {
      "cell_type": "code",
      "source": [],
      "metadata": {
        "id": "qP49gwYxAREW"
      },
      "execution_count": null,
      "outputs": []
    },
    {
      "cell_type": "code",
      "source": [],
      "metadata": {
        "id": "WU04T63bARBm"
      },
      "execution_count": null,
      "outputs": []
    },
    {
      "cell_type": "code",
      "source": [],
      "metadata": {
        "id": "QxByeMWXAQ9p"
      },
      "execution_count": null,
      "outputs": []
    },
    {
      "cell_type": "code",
      "source": [],
      "metadata": {
        "id": "G-gxhB1OAQ7D"
      },
      "execution_count": null,
      "outputs": []
    },
    {
      "cell_type": "code",
      "source": [],
      "metadata": {
        "id": "ry-3TNFhAQ4p"
      },
      "execution_count": null,
      "outputs": []
    },
    {
      "cell_type": "code",
      "source": [],
      "metadata": {
        "id": "P4I4oow_AQ0E"
      },
      "execution_count": null,
      "outputs": []
    },
    {
      "cell_type": "code",
      "source": [],
      "metadata": {
        "id": "V5P2gdehAQxD"
      },
      "execution_count": null,
      "outputs": []
    },
    {
      "cell_type": "code",
      "source": [],
      "metadata": {
        "id": "a9KengbDAQsf"
      },
      "execution_count": null,
      "outputs": []
    }
  ]
}