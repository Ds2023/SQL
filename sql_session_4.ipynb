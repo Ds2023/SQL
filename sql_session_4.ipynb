{
  "nbformat": 4,
  "nbformat_minor": 0,
  "metadata": {
    "colab": {
      "provenance": [],
      "authorship_tag": "ABX9TyNpjyhsSU7r3j0xdPl3mIFE",
      "include_colab_link": true
    },
    "kernelspec": {
      "name": "python3",
      "display_name": "Python 3"
    },
    "language_info": {
      "name": "python"
    }
  },
  "cells": [
    {
      "cell_type": "markdown",
      "metadata": {
        "id": "view-in-github",
        "colab_type": "text"
      },
      "source": [
        "<a href=\"https://colab.research.google.com/github/Ds2023/SQL/blob/main/sql_session_4.ipynb\" target=\"_parent\"><img src=\"https://colab.research.google.com/assets/colab-badge.svg\" alt=\"Open In Colab\"/></a>"
      ]
    },
    {
      "cell_type": "code",
      "execution_count": 1,
      "metadata": {
        "id": "MfS8Dg2L0ACF"
      },
      "outputs": [],
      "source": [
        "%load_ext sql"
      ]
    },
    {
      "cell_type": "code",
      "source": [
        "%sql sqlite:///practice.db"
      ],
      "metadata": {
        "id": "Kr2SOq314elv"
      },
      "execution_count": 2,
      "outputs": []
    },
    {
      "cell_type": "code",
      "source": [
        "%%sql CREATE TABLE Worker (\n",
        "\tWORKER_ID INT NOT NULL PRIMARY KEY,\n",
        "\tFIRST_NAME TEXT(25),\n",
        "\tLAST_NAME TEXT(25),\n",
        "\tSALARY INT(15),\n",
        "\tJOINING_DATE DATETIME,\n",
        "\tDEPARTMENT TEXT(25)\n",
        ");"
      ],
      "metadata": {
        "colab": {
          "base_uri": "https://localhost:8080/"
        },
        "id": "KR9ql6de4ejA",
        "outputId": "c0158912-8b31-4cfb-89bf-baf0deb68958"
      },
      "execution_count": 4,
      "outputs": [
        {
          "output_type": "stream",
          "name": "stdout",
          "text": [
            " * sqlite:///practice.db\n",
            "Done.\n"
          ]
        },
        {
          "output_type": "execute_result",
          "data": {
            "text/plain": [
              "[]"
            ]
          },
          "metadata": {},
          "execution_count": 4
        }
      ]
    },
    {
      "cell_type": "code",
      "source": [
        "%%sql CREATE TABLE Bonus (\n",
        "\tWORKER_REF_ID INT,\n",
        "\tBONUS_AMOUNT INT(10),\n",
        "\tBONUS_DATE DATETIME,\n",
        "\tFOREIGN KEY (WORKER_REF_ID)\n",
        "\t\tREFERENCES Worker(WORKER_ID)\n",
        "        ON DELETE CASCADE\n",
        ");"
      ],
      "metadata": {
        "colab": {
          "base_uri": "https://localhost:8080/"
        },
        "id": "3mY7px-j4egp",
        "outputId": "e23c2a7e-21ab-40ce-bd89-9704984bb11d"
      },
      "execution_count": 5,
      "outputs": [
        {
          "output_type": "stream",
          "name": "stdout",
          "text": [
            " * sqlite:///practice.db\n",
            "Done.\n"
          ]
        },
        {
          "output_type": "execute_result",
          "data": {
            "text/plain": [
              "[]"
            ]
          },
          "metadata": {},
          "execution_count": 5
        }
      ]
    },
    {
      "cell_type": "code",
      "source": [
        "%%sql CREATE TABLE Title (\n",
        "\tWORKER_REF_ID INT,\n",
        "\tWORKER_TITLE CHAR(25),\n",
        "\tAFFECTED_FROM DATETIME,\n",
        "\tFOREIGN KEY (WORKER_REF_ID)\n",
        "\t\tREFERENCES Worker(WORKER_ID)\n",
        "        ON DELETE CASCADE\n",
        ");"
      ],
      "metadata": {
        "colab": {
          "base_uri": "https://localhost:8080/"
        },
        "id": "kosxG2BDG-zI",
        "outputId": "c73f3263-b4ee-48e6-cd92-75d6387f4fcb"
      },
      "execution_count": 6,
      "outputs": [
        {
          "output_type": "stream",
          "name": "stdout",
          "text": [
            " * sqlite:///practice.db\n",
            "Done.\n"
          ]
        },
        {
          "output_type": "execute_result",
          "data": {
            "text/plain": [
              "[]"
            ]
          },
          "metadata": {},
          "execution_count": 6
        }
      ]
    },
    {
      "cell_type": "code",
      "source": [
        "%%sql INSERT INTO Worker\n",
        "\t(WORKER_ID, FIRST_NAME, LAST_NAME, SALARY, JOINING_DATE, DEPARTMENT) VALUES\n",
        "\t\t(001, 'Monika', 'Arora', 100000, '14-02-20 09.00.00', 'HR'),\n",
        "\t\t(002, 'Niharika', 'Verma', 80000, '14-06-11 09.00.00', 'Admin'),\n",
        "\t\t(003, 'Vishal', 'Singhal', 300000, '14-02-20 09.00.00', 'HR'),\n",
        "\t\t(004, 'Amitabh', 'Singh', 500000, '14-02-20 09.00.00', 'Admin'),\n",
        "\t\t(005, 'Vivek', 'Bhati', 500000, '14-06-11 09.00.00', 'Admin'),\n",
        "\t\t(006, 'Vipul', 'Diwan', 200000, '14-06-11 09.00.00', 'Account'),\n",
        "\t\t(007, 'Satish', 'Kumar', 75000, '14-01-20 09.00.00', 'Account'),\n",
        "\t\t(008, 'Geetika', 'Chauhan', 90000, '14-04-11 09.00.00', 'Admin');"
      ],
      "metadata": {
        "colab": {
          "base_uri": "https://localhost:8080/"
        },
        "id": "Qbt37zD7BIpd",
        "outputId": "ec6d6850-b836-4951-b263-7e834a5ca79e"
      },
      "execution_count": 7,
      "outputs": [
        {
          "output_type": "stream",
          "name": "stdout",
          "text": [
            " * sqlite:///practice.db\n",
            "8 rows affected.\n"
          ]
        },
        {
          "output_type": "execute_result",
          "data": {
            "text/plain": [
              "[]"
            ]
          },
          "metadata": {},
          "execution_count": 7
        }
      ]
    },
    {
      "cell_type": "code",
      "source": [
        "%%sql INSERT INTO Bonus\n",
        "\t(WORKER_REF_ID, BONUS_AMOUNT, BONUS_DATE) VALUES\n",
        "\t\t(001, 5000, '16-02-20'),\n",
        "\t\t(002, 3000, '16-06-11'),\n",
        "\t\t(003, 4000, '16-02-20'),\n",
        "\t\t(001, 4500, '16-02-20'),\n",
        "\t\t(002, 3500, '16-06-11');"
      ],
      "metadata": {
        "colab": {
          "base_uri": "https://localhost:8080/"
        },
        "id": "FPc4L16n4ebs",
        "outputId": "a5946987-6246-42a0-d805-84ee9f83cf4f"
      },
      "execution_count": 8,
      "outputs": [
        {
          "output_type": "stream",
          "name": "stdout",
          "text": [
            " * sqlite:///practice.db\n",
            "5 rows affected.\n"
          ]
        },
        {
          "output_type": "execute_result",
          "data": {
            "text/plain": [
              "[]"
            ]
          },
          "metadata": {},
          "execution_count": 8
        }
      ]
    },
    {
      "cell_type": "code",
      "source": [
        "%%sql INSERT INTO Title\n",
        "\t(WORKER_REF_ID, WORKER_TITLE, AFFECTED_FROM) VALUES\n",
        " (001, 'Manager', '2016-02-20 00:00:00'),\n",
        " (002, 'Executive', '2016-06-11 00:00:00'),\n",
        " (008, 'Executive', '2016-06-11 00:00:00'),\n",
        " (005, 'Manager', '2016-06-11 00:00:00'),\n",
        " (004, 'Asst. Manager', '2016-06-11 00:00:00'),\n",
        " (007, 'Executive', '2016-06-11 00:00:00'),\n",
        " (006, 'Lead', '2016-06-11 00:00:00'),\n",
        " (003, 'Lead', '2016-06-11 00:00:00');"
      ],
      "metadata": {
        "colab": {
          "base_uri": "https://localhost:8080/"
        },
        "id": "aNza2khV4eZB",
        "outputId": "5adb43b7-4ca9-4778-d592-e44793f51ebe"
      },
      "execution_count": 9,
      "outputs": [
        {
          "output_type": "stream",
          "name": "stdout",
          "text": [
            " * sqlite:///practice.db\n",
            "8 rows affected.\n"
          ]
        },
        {
          "output_type": "execute_result",
          "data": {
            "text/plain": [
              "[]"
            ]
          },
          "metadata": {},
          "execution_count": 9
        }
      ]
    },
    {
      "cell_type": "code",
      "source": [
        "%sql SELECT * FROM Worker;"
      ],
      "metadata": {
        "colab": {
          "base_uri": "https://localhost:8080/",
          "height": 246
        },
        "id": "GQbV61S54eWF",
        "outputId": "04f5345a-c36c-4cb2-b517-82d5226c952e"
      },
      "execution_count": 10,
      "outputs": [
        {
          "output_type": "stream",
          "name": "stdout",
          "text": [
            " * sqlite:///practice.db\n",
            "Done.\n"
          ]
        },
        {
          "output_type": "execute_result",
          "data": {
            "text/plain": [
              "[(1, 'Monika', 'Arora', 100000, '14-02-20 09.00.00', 'HR'),\n",
              " (2, 'Niharika', 'Verma', 80000, '14-06-11 09.00.00', 'Admin'),\n",
              " (3, 'Vishal', 'Singhal', 300000, '14-02-20 09.00.00', 'HR'),\n",
              " (4, 'Amitabh', 'Singh', 500000, '14-02-20 09.00.00', 'Admin'),\n",
              " (5, 'Vivek', 'Bhati', 500000, '14-06-11 09.00.00', 'Admin'),\n",
              " (6, 'Vipul', 'Diwan', 200000, '14-06-11 09.00.00', 'Account'),\n",
              " (7, 'Satish', 'Kumar', 75000, '14-01-20 09.00.00', 'Account'),\n",
              " (8, 'Geetika', 'Chauhan', 90000, '14-04-11 09.00.00', 'Admin')]"
            ],
            "text/html": [
              "<table>\n",
              "    <thead>\n",
              "        <tr>\n",
              "            <th>WORKER_ID</th>\n",
              "            <th>FIRST_NAME</th>\n",
              "            <th>LAST_NAME</th>\n",
              "            <th>SALARY</th>\n",
              "            <th>JOINING_DATE</th>\n",
              "            <th>DEPARTMENT</th>\n",
              "        </tr>\n",
              "    </thead>\n",
              "    <tbody>\n",
              "        <tr>\n",
              "            <td>1</td>\n",
              "            <td>Monika</td>\n",
              "            <td>Arora</td>\n",
              "            <td>100000</td>\n",
              "            <td>14-02-20 09.00.00</td>\n",
              "            <td>HR</td>\n",
              "        </tr>\n",
              "        <tr>\n",
              "            <td>2</td>\n",
              "            <td>Niharika</td>\n",
              "            <td>Verma</td>\n",
              "            <td>80000</td>\n",
              "            <td>14-06-11 09.00.00</td>\n",
              "            <td>Admin</td>\n",
              "        </tr>\n",
              "        <tr>\n",
              "            <td>3</td>\n",
              "            <td>Vishal</td>\n",
              "            <td>Singhal</td>\n",
              "            <td>300000</td>\n",
              "            <td>14-02-20 09.00.00</td>\n",
              "            <td>HR</td>\n",
              "        </tr>\n",
              "        <tr>\n",
              "            <td>4</td>\n",
              "            <td>Amitabh</td>\n",
              "            <td>Singh</td>\n",
              "            <td>500000</td>\n",
              "            <td>14-02-20 09.00.00</td>\n",
              "            <td>Admin</td>\n",
              "        </tr>\n",
              "        <tr>\n",
              "            <td>5</td>\n",
              "            <td>Vivek</td>\n",
              "            <td>Bhati</td>\n",
              "            <td>500000</td>\n",
              "            <td>14-06-11 09.00.00</td>\n",
              "            <td>Admin</td>\n",
              "        </tr>\n",
              "        <tr>\n",
              "            <td>6</td>\n",
              "            <td>Vipul</td>\n",
              "            <td>Diwan</td>\n",
              "            <td>200000</td>\n",
              "            <td>14-06-11 09.00.00</td>\n",
              "            <td>Account</td>\n",
              "        </tr>\n",
              "        <tr>\n",
              "            <td>7</td>\n",
              "            <td>Satish</td>\n",
              "            <td>Kumar</td>\n",
              "            <td>75000</td>\n",
              "            <td>14-01-20 09.00.00</td>\n",
              "            <td>Account</td>\n",
              "        </tr>\n",
              "        <tr>\n",
              "            <td>8</td>\n",
              "            <td>Geetika</td>\n",
              "            <td>Chauhan</td>\n",
              "            <td>90000</td>\n",
              "            <td>14-04-11 09.00.00</td>\n",
              "            <td>Admin</td>\n",
              "        </tr>\n",
              "    </tbody>\n",
              "</table>"
            ]
          },
          "metadata": {},
          "execution_count": 10
        }
      ]
    },
    {
      "cell_type": "code",
      "source": [
        "%sql SELECT * FROM Bonus;"
      ],
      "metadata": {
        "colab": {
          "base_uri": "https://localhost:8080/",
          "height": 182
        },
        "id": "yavCX8Nw4eTe",
        "outputId": "f4531df7-7a67-4c6f-8e29-a15b32cc90cf"
      },
      "execution_count": 11,
      "outputs": [
        {
          "output_type": "stream",
          "name": "stdout",
          "text": [
            " * sqlite:///practice.db\n",
            "Done.\n"
          ]
        },
        {
          "output_type": "execute_result",
          "data": {
            "text/plain": [
              "[(1, 5000, '16-02-20'),\n",
              " (2, 3000, '16-06-11'),\n",
              " (3, 4000, '16-02-20'),\n",
              " (1, 4500, '16-02-20'),\n",
              " (2, 3500, '16-06-11')]"
            ],
            "text/html": [
              "<table>\n",
              "    <thead>\n",
              "        <tr>\n",
              "            <th>WORKER_REF_ID</th>\n",
              "            <th>BONUS_AMOUNT</th>\n",
              "            <th>BONUS_DATE</th>\n",
              "        </tr>\n",
              "    </thead>\n",
              "    <tbody>\n",
              "        <tr>\n",
              "            <td>1</td>\n",
              "            <td>5000</td>\n",
              "            <td>16-02-20</td>\n",
              "        </tr>\n",
              "        <tr>\n",
              "            <td>2</td>\n",
              "            <td>3000</td>\n",
              "            <td>16-06-11</td>\n",
              "        </tr>\n",
              "        <tr>\n",
              "            <td>3</td>\n",
              "            <td>4000</td>\n",
              "            <td>16-02-20</td>\n",
              "        </tr>\n",
              "        <tr>\n",
              "            <td>1</td>\n",
              "            <td>4500</td>\n",
              "            <td>16-02-20</td>\n",
              "        </tr>\n",
              "        <tr>\n",
              "            <td>2</td>\n",
              "            <td>3500</td>\n",
              "            <td>16-06-11</td>\n",
              "        </tr>\n",
              "    </tbody>\n",
              "</table>"
            ]
          },
          "metadata": {},
          "execution_count": 11
        }
      ]
    },
    {
      "cell_type": "markdown",
      "source": [
        "**Fetching Data**"
      ],
      "metadata": {
        "id": "P-JwGc2HQogt"
      }
    },
    {
      "cell_type": "code",
      "source": [
        "%sql SELECT * FROM Title;"
      ],
      "metadata": {
        "colab": {
          "base_uri": "https://localhost:8080/",
          "height": 246
        },
        "id": "_acVLWb94eQ7",
        "outputId": "e7eada13-8311-4ac5-ea7b-7356011a9107"
      },
      "execution_count": 12,
      "outputs": [
        {
          "output_type": "stream",
          "name": "stdout",
          "text": [
            " * sqlite:///practice.db\n",
            "Done.\n"
          ]
        },
        {
          "output_type": "execute_result",
          "data": {
            "text/plain": [
              "[(1, 'Manager', '2016-02-20 00:00:00'),\n",
              " (2, 'Executive', '2016-06-11 00:00:00'),\n",
              " (8, 'Executive', '2016-06-11 00:00:00'),\n",
              " (5, 'Manager', '2016-06-11 00:00:00'),\n",
              " (4, 'Asst. Manager', '2016-06-11 00:00:00'),\n",
              " (7, 'Executive', '2016-06-11 00:00:00'),\n",
              " (6, 'Lead', '2016-06-11 00:00:00'),\n",
              " (3, 'Lead', '2016-06-11 00:00:00')]"
            ],
            "text/html": [
              "<table>\n",
              "    <thead>\n",
              "        <tr>\n",
              "            <th>WORKER_REF_ID</th>\n",
              "            <th>WORKER_TITLE</th>\n",
              "            <th>AFFECTED_FROM</th>\n",
              "        </tr>\n",
              "    </thead>\n",
              "    <tbody>\n",
              "        <tr>\n",
              "            <td>1</td>\n",
              "            <td>Manager</td>\n",
              "            <td>2016-02-20 00:00:00</td>\n",
              "        </tr>\n",
              "        <tr>\n",
              "            <td>2</td>\n",
              "            <td>Executive</td>\n",
              "            <td>2016-06-11 00:00:00</td>\n",
              "        </tr>\n",
              "        <tr>\n",
              "            <td>8</td>\n",
              "            <td>Executive</td>\n",
              "            <td>2016-06-11 00:00:00</td>\n",
              "        </tr>\n",
              "        <tr>\n",
              "            <td>5</td>\n",
              "            <td>Manager</td>\n",
              "            <td>2016-06-11 00:00:00</td>\n",
              "        </tr>\n",
              "        <tr>\n",
              "            <td>4</td>\n",
              "            <td>Asst. Manager</td>\n",
              "            <td>2016-06-11 00:00:00</td>\n",
              "        </tr>\n",
              "        <tr>\n",
              "            <td>7</td>\n",
              "            <td>Executive</td>\n",
              "            <td>2016-06-11 00:00:00</td>\n",
              "        </tr>\n",
              "        <tr>\n",
              "            <td>6</td>\n",
              "            <td>Lead</td>\n",
              "            <td>2016-06-11 00:00:00</td>\n",
              "        </tr>\n",
              "        <tr>\n",
              "            <td>3</td>\n",
              "            <td>Lead</td>\n",
              "            <td>2016-06-11 00:00:00</td>\n",
              "        </tr>\n",
              "    </tbody>\n",
              "</table>"
            ]
          },
          "metadata": {},
          "execution_count": 12
        }
      ]
    },
    {
      "cell_type": "code",
      "source": [
        "# Individual Columns\n",
        "\n",
        "%sql SELECT WORKER_REF_ID, WORKER_TITLE FROM Title;"
      ],
      "metadata": {
        "colab": {
          "base_uri": "https://localhost:8080/",
          "height": 246
        },
        "id": "Jr0x15RA4eOK",
        "outputId": "1f502538-cdf6-4ede-852a-23c70d24a13d"
      },
      "execution_count": 13,
      "outputs": [
        {
          "output_type": "stream",
          "name": "stdout",
          "text": [
            " * sqlite:///practice.db\n",
            "Done.\n"
          ]
        },
        {
          "output_type": "execute_result",
          "data": {
            "text/plain": [
              "[(1, 'Manager'),\n",
              " (2, 'Executive'),\n",
              " (8, 'Executive'),\n",
              " (5, 'Manager'),\n",
              " (4, 'Asst. Manager'),\n",
              " (7, 'Executive'),\n",
              " (6, 'Lead'),\n",
              " (3, 'Lead')]"
            ],
            "text/html": [
              "<table>\n",
              "    <thead>\n",
              "        <tr>\n",
              "            <th>WORKER_REF_ID</th>\n",
              "            <th>WORKER_TITLE</th>\n",
              "        </tr>\n",
              "    </thead>\n",
              "    <tbody>\n",
              "        <tr>\n",
              "            <td>1</td>\n",
              "            <td>Manager</td>\n",
              "        </tr>\n",
              "        <tr>\n",
              "            <td>2</td>\n",
              "            <td>Executive</td>\n",
              "        </tr>\n",
              "        <tr>\n",
              "            <td>8</td>\n",
              "            <td>Executive</td>\n",
              "        </tr>\n",
              "        <tr>\n",
              "            <td>5</td>\n",
              "            <td>Manager</td>\n",
              "        </tr>\n",
              "        <tr>\n",
              "            <td>4</td>\n",
              "            <td>Asst. Manager</td>\n",
              "        </tr>\n",
              "        <tr>\n",
              "            <td>7</td>\n",
              "            <td>Executive</td>\n",
              "        </tr>\n",
              "        <tr>\n",
              "            <td>6</td>\n",
              "            <td>Lead</td>\n",
              "        </tr>\n",
              "        <tr>\n",
              "            <td>3</td>\n",
              "            <td>Lead</td>\n",
              "        </tr>\n",
              "    </tbody>\n",
              "</table>"
            ]
          },
          "metadata": {},
          "execution_count": 13
        }
      ]
    },
    {
      "cell_type": "code",
      "source": [
        "# Where Clauses\n",
        "\n",
        "%sql SELECT * FROM Title where WORKER_TITLE == 'Lead';"
      ],
      "metadata": {
        "colab": {
          "base_uri": "https://localhost:8080/",
          "height": 118
        },
        "id": "fwNnQApQ4eLX",
        "outputId": "6b623d57-3119-4241-c5af-97588ec3d9eb"
      },
      "execution_count": 14,
      "outputs": [
        {
          "output_type": "stream",
          "name": "stdout",
          "text": [
            " * sqlite:///practice.db\n",
            "Done.\n"
          ]
        },
        {
          "output_type": "execute_result",
          "data": {
            "text/plain": [
              "[(6, 'Lead', '2016-06-11 00:00:00'), (3, 'Lead', '2016-06-11 00:00:00')]"
            ],
            "text/html": [
              "<table>\n",
              "    <thead>\n",
              "        <tr>\n",
              "            <th>WORKER_REF_ID</th>\n",
              "            <th>WORKER_TITLE</th>\n",
              "            <th>AFFECTED_FROM</th>\n",
              "        </tr>\n",
              "    </thead>\n",
              "    <tbody>\n",
              "        <tr>\n",
              "            <td>6</td>\n",
              "            <td>Lead</td>\n",
              "            <td>2016-06-11 00:00:00</td>\n",
              "        </tr>\n",
              "        <tr>\n",
              "            <td>3</td>\n",
              "            <td>Lead</td>\n",
              "            <td>2016-06-11 00:00:00</td>\n",
              "        </tr>\n",
              "    </tbody>\n",
              "</table>"
            ]
          },
          "metadata": {},
          "execution_count": 14
        }
      ]
    },
    {
      "cell_type": "code",
      "source": [
        "# Ordering By (Descending and Ascending)\n",
        "\n",
        "%sql SELECT * FROM Bonus ORDER BY BONUS_AMOUNT ASC;"
      ],
      "metadata": {
        "colab": {
          "base_uri": "https://localhost:8080/",
          "height": 182
        },
        "id": "93AIWxuU4eIi",
        "outputId": "a2a512b6-a5e3-4c94-e1e5-54617d2b1326"
      },
      "execution_count": 16,
      "outputs": [
        {
          "output_type": "stream",
          "name": "stdout",
          "text": [
            " * sqlite:///practice.db\n",
            "Done.\n"
          ]
        },
        {
          "output_type": "execute_result",
          "data": {
            "text/plain": [
              "[(2, 3000, '16-06-11'),\n",
              " (2, 3500, '16-06-11'),\n",
              " (3, 4000, '16-02-20'),\n",
              " (1, 4500, '16-02-20'),\n",
              " (1, 5000, '16-02-20')]"
            ],
            "text/html": [
              "<table>\n",
              "    <thead>\n",
              "        <tr>\n",
              "            <th>WORKER_REF_ID</th>\n",
              "            <th>BONUS_AMOUNT</th>\n",
              "            <th>BONUS_DATE</th>\n",
              "        </tr>\n",
              "    </thead>\n",
              "    <tbody>\n",
              "        <tr>\n",
              "            <td>2</td>\n",
              "            <td>3000</td>\n",
              "            <td>16-06-11</td>\n",
              "        </tr>\n",
              "        <tr>\n",
              "            <td>2</td>\n",
              "            <td>3500</td>\n",
              "            <td>16-06-11</td>\n",
              "        </tr>\n",
              "        <tr>\n",
              "            <td>3</td>\n",
              "            <td>4000</td>\n",
              "            <td>16-02-20</td>\n",
              "        </tr>\n",
              "        <tr>\n",
              "            <td>1</td>\n",
              "            <td>4500</td>\n",
              "            <td>16-02-20</td>\n",
              "        </tr>\n",
              "        <tr>\n",
              "            <td>1</td>\n",
              "            <td>5000</td>\n",
              "            <td>16-02-20</td>\n",
              "        </tr>\n",
              "    </tbody>\n",
              "</table>"
            ]
          },
          "metadata": {},
          "execution_count": 16
        }
      ]
    },
    {
      "cell_type": "code",
      "source": [
        "%sql SELECT * FROM Worker ORDER BY (JOINING_DATE) DESC;"
      ],
      "metadata": {
        "colab": {
          "base_uri": "https://localhost:8080/",
          "height": 246
        },
        "id": "pVvXXewmgosn",
        "outputId": "ceca3583-8d33-47c6-c4fd-9eacc5df2242"
      },
      "execution_count": 36,
      "outputs": [
        {
          "output_type": "stream",
          "name": "stdout",
          "text": [
            " * sqlite:///practice.db\n",
            "Done.\n"
          ]
        },
        {
          "output_type": "execute_result",
          "data": {
            "text/plain": [
              "[(2, 'Niharika', 'Verma', 80000, '14-06-11 09.00.00', 'Admin'),\n",
              " (5, 'Vivek', 'Bhati', 500000, '14-06-11 09.00.00', 'Admin'),\n",
              " (6, 'Vipul', 'Diwan', 200000, '14-06-11 09.00.00', 'Account'),\n",
              " (8, 'Geetika', 'Chauhan', 90000, '14-04-11 09.00.00', 'Admin'),\n",
              " (1, 'Monika', 'Arora', 100000, '14-02-20 09.00.00', 'HR'),\n",
              " (3, 'Vishal', 'Singhal', 300000, '14-02-20 09.00.00', 'HR'),\n",
              " (4, 'Amitabh', 'Singh', 500000, '14-02-20 09.00.00', 'Admin'),\n",
              " (7, 'Satish', 'Kumar', 75000, '14-01-20 09.00.00', 'Account')]"
            ],
            "text/html": [
              "<table>\n",
              "    <thead>\n",
              "        <tr>\n",
              "            <th>WORKER_ID</th>\n",
              "            <th>FIRST_NAME</th>\n",
              "            <th>LAST_NAME</th>\n",
              "            <th>SALARY</th>\n",
              "            <th>JOINING_DATE</th>\n",
              "            <th>DEPARTMENT</th>\n",
              "        </tr>\n",
              "    </thead>\n",
              "    <tbody>\n",
              "        <tr>\n",
              "            <td>2</td>\n",
              "            <td>Niharika</td>\n",
              "            <td>Verma</td>\n",
              "            <td>80000</td>\n",
              "            <td>14-06-11 09.00.00</td>\n",
              "            <td>Admin</td>\n",
              "        </tr>\n",
              "        <tr>\n",
              "            <td>5</td>\n",
              "            <td>Vivek</td>\n",
              "            <td>Bhati</td>\n",
              "            <td>500000</td>\n",
              "            <td>14-06-11 09.00.00</td>\n",
              "            <td>Admin</td>\n",
              "        </tr>\n",
              "        <tr>\n",
              "            <td>6</td>\n",
              "            <td>Vipul</td>\n",
              "            <td>Diwan</td>\n",
              "            <td>200000</td>\n",
              "            <td>14-06-11 09.00.00</td>\n",
              "            <td>Account</td>\n",
              "        </tr>\n",
              "        <tr>\n",
              "            <td>8</td>\n",
              "            <td>Geetika</td>\n",
              "            <td>Chauhan</td>\n",
              "            <td>90000</td>\n",
              "            <td>14-04-11 09.00.00</td>\n",
              "            <td>Admin</td>\n",
              "        </tr>\n",
              "        <tr>\n",
              "            <td>1</td>\n",
              "            <td>Monika</td>\n",
              "            <td>Arora</td>\n",
              "            <td>100000</td>\n",
              "            <td>14-02-20 09.00.00</td>\n",
              "            <td>HR</td>\n",
              "        </tr>\n",
              "        <tr>\n",
              "            <td>3</td>\n",
              "            <td>Vishal</td>\n",
              "            <td>Singhal</td>\n",
              "            <td>300000</td>\n",
              "            <td>14-02-20 09.00.00</td>\n",
              "            <td>HR</td>\n",
              "        </tr>\n",
              "        <tr>\n",
              "            <td>4</td>\n",
              "            <td>Amitabh</td>\n",
              "            <td>Singh</td>\n",
              "            <td>500000</td>\n",
              "            <td>14-02-20 09.00.00</td>\n",
              "            <td>Admin</td>\n",
              "        </tr>\n",
              "        <tr>\n",
              "            <td>7</td>\n",
              "            <td>Satish</td>\n",
              "            <td>Kumar</td>\n",
              "            <td>75000</td>\n",
              "            <td>14-01-20 09.00.00</td>\n",
              "            <td>Account</td>\n",
              "        </tr>\n",
              "    </tbody>\n",
              "</table>"
            ]
          },
          "metadata": {},
          "execution_count": 36
        }
      ]
    },
    {
      "cell_type": "code",
      "source": [
        "%sql SELECT * FROM Title;"
      ],
      "metadata": {
        "colab": {
          "base_uri": "https://localhost:8080/",
          "height": 246
        },
        "id": "l36oQnLfUD6z",
        "outputId": "e5efa382-1105-41ff-e678-c4d437775fc1"
      },
      "execution_count": 18,
      "outputs": [
        {
          "output_type": "stream",
          "name": "stdout",
          "text": [
            " * sqlite:///practice.db\n",
            "Done.\n"
          ]
        },
        {
          "output_type": "execute_result",
          "data": {
            "text/plain": [
              "[(1, 'Manager', '2016-02-20 00:00:00'),\n",
              " (2, 'Executive', '2016-06-11 00:00:00'),\n",
              " (8, 'Executive', '2016-06-11 00:00:00'),\n",
              " (5, 'Manager', '2016-06-11 00:00:00'),\n",
              " (4, 'Asst. Manager', '2016-06-11 00:00:00'),\n",
              " (7, 'Executive', '2016-06-11 00:00:00'),\n",
              " (6, 'Lead', '2016-06-11 00:00:00'),\n",
              " (3, 'Lead', '2016-06-11 00:00:00')]"
            ],
            "text/html": [
              "<table>\n",
              "    <thead>\n",
              "        <tr>\n",
              "            <th>WORKER_REF_ID</th>\n",
              "            <th>WORKER_TITLE</th>\n",
              "            <th>AFFECTED_FROM</th>\n",
              "        </tr>\n",
              "    </thead>\n",
              "    <tbody>\n",
              "        <tr>\n",
              "            <td>1</td>\n",
              "            <td>Manager</td>\n",
              "            <td>2016-02-20 00:00:00</td>\n",
              "        </tr>\n",
              "        <tr>\n",
              "            <td>2</td>\n",
              "            <td>Executive</td>\n",
              "            <td>2016-06-11 00:00:00</td>\n",
              "        </tr>\n",
              "        <tr>\n",
              "            <td>8</td>\n",
              "            <td>Executive</td>\n",
              "            <td>2016-06-11 00:00:00</td>\n",
              "        </tr>\n",
              "        <tr>\n",
              "            <td>5</td>\n",
              "            <td>Manager</td>\n",
              "            <td>2016-06-11 00:00:00</td>\n",
              "        </tr>\n",
              "        <tr>\n",
              "            <td>4</td>\n",
              "            <td>Asst. Manager</td>\n",
              "            <td>2016-06-11 00:00:00</td>\n",
              "        </tr>\n",
              "        <tr>\n",
              "            <td>7</td>\n",
              "            <td>Executive</td>\n",
              "            <td>2016-06-11 00:00:00</td>\n",
              "        </tr>\n",
              "        <tr>\n",
              "            <td>6</td>\n",
              "            <td>Lead</td>\n",
              "            <td>2016-06-11 00:00:00</td>\n",
              "        </tr>\n",
              "        <tr>\n",
              "            <td>3</td>\n",
              "            <td>Lead</td>\n",
              "            <td>2016-06-11 00:00:00</td>\n",
              "        </tr>\n",
              "    </tbody>\n",
              "</table>"
            ]
          },
          "metadata": {},
          "execution_count": 18
        }
      ]
    },
    {
      "cell_type": "code",
      "source": [
        "# Group BY\n",
        "# Counting the number of workers in each title\n",
        "\n",
        "%sql SELECT WORKER_TITLE, COUNT(*) AS \"Employees\" FROM Title GROUP BY WORKER_TITLE;"
      ],
      "metadata": {
        "colab": {
          "base_uri": "https://localhost:8080/",
          "height": 161
        },
        "id": "lqxkJTb84eF0",
        "outputId": "af4a26a7-af31-48ed-b880-4f7fd18f4aca"
      },
      "execution_count": 20,
      "outputs": [
        {
          "output_type": "stream",
          "name": "stdout",
          "text": [
            " * sqlite:///practice.db\n",
            "Done.\n"
          ]
        },
        {
          "output_type": "execute_result",
          "data": {
            "text/plain": [
              "[('Asst. Manager', 1), ('Executive', 3), ('Lead', 2), ('Manager', 2)]"
            ],
            "text/html": [
              "<table>\n",
              "    <thead>\n",
              "        <tr>\n",
              "            <th>WORKER_TITLE</th>\n",
              "            <th>Employees</th>\n",
              "        </tr>\n",
              "    </thead>\n",
              "    <tbody>\n",
              "        <tr>\n",
              "            <td>Asst. Manager</td>\n",
              "            <td>1</td>\n",
              "        </tr>\n",
              "        <tr>\n",
              "            <td>Executive</td>\n",
              "            <td>3</td>\n",
              "        </tr>\n",
              "        <tr>\n",
              "            <td>Lead</td>\n",
              "            <td>2</td>\n",
              "        </tr>\n",
              "        <tr>\n",
              "            <td>Manager</td>\n",
              "            <td>2</td>\n",
              "        </tr>\n",
              "    </tbody>\n",
              "</table>"
            ]
          },
          "metadata": {},
          "execution_count": 20
        }
      ]
    },
    {
      "cell_type": "code",
      "source": [
        "%sql SELECT * FROM Bonus;"
      ],
      "metadata": {
        "colab": {
          "base_uri": "https://localhost:8080/",
          "height": 182
        },
        "id": "8c_ixspp4eDH",
        "outputId": "15641973-c812-486e-de34-6f111420d326"
      },
      "execution_count": 21,
      "outputs": [
        {
          "output_type": "stream",
          "name": "stdout",
          "text": [
            " * sqlite:///practice.db\n",
            "Done.\n"
          ]
        },
        {
          "output_type": "execute_result",
          "data": {
            "text/plain": [
              "[(1, 5000, '16-02-20'),\n",
              " (2, 3000, '16-06-11'),\n",
              " (3, 4000, '16-02-20'),\n",
              " (1, 4500, '16-02-20'),\n",
              " (2, 3500, '16-06-11')]"
            ],
            "text/html": [
              "<table>\n",
              "    <thead>\n",
              "        <tr>\n",
              "            <th>WORKER_REF_ID</th>\n",
              "            <th>BONUS_AMOUNT</th>\n",
              "            <th>BONUS_DATE</th>\n",
              "        </tr>\n",
              "    </thead>\n",
              "    <tbody>\n",
              "        <tr>\n",
              "            <td>1</td>\n",
              "            <td>5000</td>\n",
              "            <td>16-02-20</td>\n",
              "        </tr>\n",
              "        <tr>\n",
              "            <td>2</td>\n",
              "            <td>3000</td>\n",
              "            <td>16-06-11</td>\n",
              "        </tr>\n",
              "        <tr>\n",
              "            <td>3</td>\n",
              "            <td>4000</td>\n",
              "            <td>16-02-20</td>\n",
              "        </tr>\n",
              "        <tr>\n",
              "            <td>1</td>\n",
              "            <td>4500</td>\n",
              "            <td>16-02-20</td>\n",
              "        </tr>\n",
              "        <tr>\n",
              "            <td>2</td>\n",
              "            <td>3500</td>\n",
              "            <td>16-06-11</td>\n",
              "        </tr>\n",
              "    </tbody>\n",
              "</table>"
            ]
          },
          "metadata": {},
          "execution_count": 21
        }
      ]
    },
    {
      "cell_type": "code",
      "source": [
        "# Getting the bonus per worker_ref_id\n",
        "\n",
        "%sql SELECT WORKER_REF_ID, SUM(BONUS_AMOUNT) FROM Bonus GROUP BY WORKER_REF_ID;"
      ],
      "metadata": {
        "colab": {
          "base_uri": "https://localhost:8080/",
          "height": 139
        },
        "id": "6_tKxiYq4eAd",
        "outputId": "d1190216-a626-4dab-d250-431333ba579a"
      },
      "execution_count": 24,
      "outputs": [
        {
          "output_type": "stream",
          "name": "stdout",
          "text": [
            " * sqlite:///practice.db\n",
            "Done.\n"
          ]
        },
        {
          "output_type": "execute_result",
          "data": {
            "text/plain": [
              "[(1, 9500), (2, 6500), (3, 4000)]"
            ],
            "text/html": [
              "<table>\n",
              "    <thead>\n",
              "        <tr>\n",
              "            <th>WORKER_REF_ID</th>\n",
              "            <th>SUM(BONUS_AMOUNT)</th>\n",
              "        </tr>\n",
              "    </thead>\n",
              "    <tbody>\n",
              "        <tr>\n",
              "            <td>1</td>\n",
              "            <td>9500</td>\n",
              "        </tr>\n",
              "        <tr>\n",
              "            <td>2</td>\n",
              "            <td>6500</td>\n",
              "        </tr>\n",
              "        <tr>\n",
              "            <td>3</td>\n",
              "            <td>4000</td>\n",
              "        </tr>\n",
              "    </tbody>\n",
              "</table>"
            ]
          },
          "metadata": {},
          "execution_count": 24
        }
      ]
    },
    {
      "cell_type": "markdown",
      "source": [
        "**Aggragating Data**"
      ],
      "metadata": {
        "id": "v69oS8jIXgs_"
      }
    },
    {
      "cell_type": "code",
      "source": [
        "%sql SELECT * FROM Worker;"
      ],
      "metadata": {
        "colab": {
          "base_uri": "https://localhost:8080/",
          "height": 246
        },
        "id": "cAKAqoauZuEy",
        "outputId": "12e5ca12-28c6-4b94-f3b2-0e24693e16a6"
      },
      "execution_count": 28,
      "outputs": [
        {
          "output_type": "stream",
          "name": "stdout",
          "text": [
            " * sqlite:///practice.db\n",
            "Done.\n"
          ]
        },
        {
          "output_type": "execute_result",
          "data": {
            "text/plain": [
              "[(1, 'Monika', 'Arora', 100000, '14-02-20 09.00.00', 'HR'),\n",
              " (2, 'Niharika', 'Verma', 80000, '14-06-11 09.00.00', 'Admin'),\n",
              " (3, 'Vishal', 'Singhal', 300000, '14-02-20 09.00.00', 'HR'),\n",
              " (4, 'Amitabh', 'Singh', 500000, '14-02-20 09.00.00', 'Admin'),\n",
              " (5, 'Vivek', 'Bhati', 500000, '14-06-11 09.00.00', 'Admin'),\n",
              " (6, 'Vipul', 'Diwan', 200000, '14-06-11 09.00.00', 'Account'),\n",
              " (7, 'Satish', 'Kumar', 75000, '14-01-20 09.00.00', 'Account'),\n",
              " (8, 'Geetika', 'Chauhan', 90000, '14-04-11 09.00.00', 'Admin')]"
            ],
            "text/html": [
              "<table>\n",
              "    <thead>\n",
              "        <tr>\n",
              "            <th>WORKER_ID</th>\n",
              "            <th>FIRST_NAME</th>\n",
              "            <th>LAST_NAME</th>\n",
              "            <th>SALARY</th>\n",
              "            <th>JOINING_DATE</th>\n",
              "            <th>DEPARTMENT</th>\n",
              "        </tr>\n",
              "    </thead>\n",
              "    <tbody>\n",
              "        <tr>\n",
              "            <td>1</td>\n",
              "            <td>Monika</td>\n",
              "            <td>Arora</td>\n",
              "            <td>100000</td>\n",
              "            <td>14-02-20 09.00.00</td>\n",
              "            <td>HR</td>\n",
              "        </tr>\n",
              "        <tr>\n",
              "            <td>2</td>\n",
              "            <td>Niharika</td>\n",
              "            <td>Verma</td>\n",
              "            <td>80000</td>\n",
              "            <td>14-06-11 09.00.00</td>\n",
              "            <td>Admin</td>\n",
              "        </tr>\n",
              "        <tr>\n",
              "            <td>3</td>\n",
              "            <td>Vishal</td>\n",
              "            <td>Singhal</td>\n",
              "            <td>300000</td>\n",
              "            <td>14-02-20 09.00.00</td>\n",
              "            <td>HR</td>\n",
              "        </tr>\n",
              "        <tr>\n",
              "            <td>4</td>\n",
              "            <td>Amitabh</td>\n",
              "            <td>Singh</td>\n",
              "            <td>500000</td>\n",
              "            <td>14-02-20 09.00.00</td>\n",
              "            <td>Admin</td>\n",
              "        </tr>\n",
              "        <tr>\n",
              "            <td>5</td>\n",
              "            <td>Vivek</td>\n",
              "            <td>Bhati</td>\n",
              "            <td>500000</td>\n",
              "            <td>14-06-11 09.00.00</td>\n",
              "            <td>Admin</td>\n",
              "        </tr>\n",
              "        <tr>\n",
              "            <td>6</td>\n",
              "            <td>Vipul</td>\n",
              "            <td>Diwan</td>\n",
              "            <td>200000</td>\n",
              "            <td>14-06-11 09.00.00</td>\n",
              "            <td>Account</td>\n",
              "        </tr>\n",
              "        <tr>\n",
              "            <td>7</td>\n",
              "            <td>Satish</td>\n",
              "            <td>Kumar</td>\n",
              "            <td>75000</td>\n",
              "            <td>14-01-20 09.00.00</td>\n",
              "            <td>Account</td>\n",
              "        </tr>\n",
              "        <tr>\n",
              "            <td>8</td>\n",
              "            <td>Geetika</td>\n",
              "            <td>Chauhan</td>\n",
              "            <td>90000</td>\n",
              "            <td>14-04-11 09.00.00</td>\n",
              "            <td>Admin</td>\n",
              "        </tr>\n",
              "    </tbody>\n",
              "</table>"
            ]
          },
          "metadata": {},
          "execution_count": 28
        }
      ]
    },
    {
      "cell_type": "code",
      "source": [
        "# Count of rows in a table.\n",
        "\n",
        "%sql SELECT COUNT(*)  FROM Worker;"
      ],
      "metadata": {
        "colab": {
          "base_uri": "https://localhost:8080/",
          "height": 96
        },
        "id": "kaNv6mlR4d9w",
        "outputId": "1f3c796c-f8cf-4bd3-99d4-e8538416fc18"
      },
      "execution_count": 27,
      "outputs": [
        {
          "output_type": "stream",
          "name": "stdout",
          "text": [
            " * sqlite:///practice.db\n",
            "Done.\n"
          ]
        },
        {
          "output_type": "execute_result",
          "data": {
            "text/plain": [
              "[(8,)]"
            ],
            "text/html": [
              "<table>\n",
              "    <thead>\n",
              "        <tr>\n",
              "            <th>COUNT(*)</th>\n",
              "        </tr>\n",
              "    </thead>\n",
              "    <tbody>\n",
              "        <tr>\n",
              "            <td>8</td>\n",
              "        </tr>\n",
              "    </tbody>\n",
              "</table>"
            ]
          },
          "metadata": {},
          "execution_count": 27
        }
      ]
    },
    {
      "cell_type": "code",
      "source": [
        "%sql SELECT * FROM Bonus;"
      ],
      "metadata": {
        "colab": {
          "base_uri": "https://localhost:8080/",
          "height": 182
        },
        "id": "YQ0s1oIQaIGb",
        "outputId": "0ccd5d9f-2e9f-400a-9159-8b250094ed69"
      },
      "execution_count": 29,
      "outputs": [
        {
          "output_type": "stream",
          "name": "stdout",
          "text": [
            " * sqlite:///practice.db\n",
            "Done.\n"
          ]
        },
        {
          "output_type": "execute_result",
          "data": {
            "text/plain": [
              "[(1, 5000, '16-02-20'),\n",
              " (2, 3000, '16-06-11'),\n",
              " (3, 4000, '16-02-20'),\n",
              " (1, 4500, '16-02-20'),\n",
              " (2, 3500, '16-06-11')]"
            ],
            "text/html": [
              "<table>\n",
              "    <thead>\n",
              "        <tr>\n",
              "            <th>WORKER_REF_ID</th>\n",
              "            <th>BONUS_AMOUNT</th>\n",
              "            <th>BONUS_DATE</th>\n",
              "        </tr>\n",
              "    </thead>\n",
              "    <tbody>\n",
              "        <tr>\n",
              "            <td>1</td>\n",
              "            <td>5000</td>\n",
              "            <td>16-02-20</td>\n",
              "        </tr>\n",
              "        <tr>\n",
              "            <td>2</td>\n",
              "            <td>3000</td>\n",
              "            <td>16-06-11</td>\n",
              "        </tr>\n",
              "        <tr>\n",
              "            <td>3</td>\n",
              "            <td>4000</td>\n",
              "            <td>16-02-20</td>\n",
              "        </tr>\n",
              "        <tr>\n",
              "            <td>1</td>\n",
              "            <td>4500</td>\n",
              "            <td>16-02-20</td>\n",
              "        </tr>\n",
              "        <tr>\n",
              "            <td>2</td>\n",
              "            <td>3500</td>\n",
              "            <td>16-06-11</td>\n",
              "        </tr>\n",
              "    </tbody>\n",
              "</table>"
            ]
          },
          "metadata": {},
          "execution_count": 29
        }
      ]
    },
    {
      "cell_type": "code",
      "source": [
        "# Calculating sum of a particular column\n",
        "\n",
        "%sql SELECT SUM(BONUS_AMOUNT) FROM Bonus;"
      ],
      "metadata": {
        "colab": {
          "base_uri": "https://localhost:8080/",
          "height": 96
        },
        "id": "2nEqQ8Wo4d7N",
        "outputId": "21b5aa42-939d-4de7-d73c-4bdf9ba42ef5"
      },
      "execution_count": 30,
      "outputs": [
        {
          "output_type": "stream",
          "name": "stdout",
          "text": [
            " * sqlite:///practice.db\n",
            "Done.\n"
          ]
        },
        {
          "output_type": "execute_result",
          "data": {
            "text/plain": [
              "[(20000,)]"
            ],
            "text/html": [
              "<table>\n",
              "    <thead>\n",
              "        <tr>\n",
              "            <th>SUM(BONUS_AMOUNT)</th>\n",
              "        </tr>\n",
              "    </thead>\n",
              "    <tbody>\n",
              "        <tr>\n",
              "            <td>20000</td>\n",
              "        </tr>\n",
              "    </tbody>\n",
              "</table>"
            ]
          },
          "metadata": {},
          "execution_count": 30
        }
      ]
    },
    {
      "cell_type": "code",
      "source": [
        "# Totals related to a particular entry\n",
        "\n",
        "%sql SELECT WORKER_REF_ID, SUM(BONUS_AMOUNT) AS Total_Bonus FROM Bonus GROUP BY WORKER_REF_ID ORDER BY Total_Bonus ASC;"
      ],
      "metadata": {
        "colab": {
          "base_uri": "https://localhost:8080/",
          "height": 139
        },
        "id": "s7dkb9cd4d4p",
        "outputId": "19892929-81b8-46c2-89a7-1ef8db6565a1"
      },
      "execution_count": 39,
      "outputs": [
        {
          "output_type": "stream",
          "name": "stdout",
          "text": [
            " * sqlite:///practice.db\n",
            "Done.\n"
          ]
        },
        {
          "output_type": "execute_result",
          "data": {
            "text/plain": [
              "[(3, 4000), (2, 6500), (1, 9500)]"
            ],
            "text/html": [
              "<table>\n",
              "    <thead>\n",
              "        <tr>\n",
              "            <th>WORKER_REF_ID</th>\n",
              "            <th>Total_Bonus</th>\n",
              "        </tr>\n",
              "    </thead>\n",
              "    <tbody>\n",
              "        <tr>\n",
              "            <td>3</td>\n",
              "            <td>4000</td>\n",
              "        </tr>\n",
              "        <tr>\n",
              "            <td>2</td>\n",
              "            <td>6500</td>\n",
              "        </tr>\n",
              "        <tr>\n",
              "            <td>1</td>\n",
              "            <td>9500</td>\n",
              "        </tr>\n",
              "    </tbody>\n",
              "</table>"
            ]
          },
          "metadata": {},
          "execution_count": 39
        }
      ]
    },
    {
      "cell_type": "code",
      "source": [
        "# Selecting the min and max values\n",
        "\n",
        "%sql SELECT MIN(BONUS_AMOUNT) FROM Bonus;"
      ],
      "metadata": {
        "colab": {
          "base_uri": "https://localhost:8080/",
          "height": 96
        },
        "id": "SP6QSJBR4dxF",
        "outputId": "20aa2e0e-73fe-40de-cce9-1b280717a089"
      },
      "execution_count": 40,
      "outputs": [
        {
          "output_type": "stream",
          "name": "stdout",
          "text": [
            " * sqlite:///practice.db\n",
            "Done.\n"
          ]
        },
        {
          "output_type": "execute_result",
          "data": {
            "text/plain": [
              "[(3000,)]"
            ],
            "text/html": [
              "<table>\n",
              "    <thead>\n",
              "        <tr>\n",
              "            <th>MIN(BONUS_AMOUNT)</th>\n",
              "        </tr>\n",
              "    </thead>\n",
              "    <tbody>\n",
              "        <tr>\n",
              "            <td>3000</td>\n",
              "        </tr>\n",
              "    </tbody>\n",
              "</table>"
            ]
          },
          "metadata": {},
          "execution_count": 40
        }
      ]
    },
    {
      "cell_type": "code",
      "source": [
        "%sql SELECT MAX(BONUS_AMOUNT) FROM Bonus;"
      ],
      "metadata": {
        "colab": {
          "base_uri": "https://localhost:8080/",
          "height": 96
        },
        "id": "KvNN0zWw4dvL",
        "outputId": "8083c819-5f72-4fb4-abdb-415b3873bb56"
      },
      "execution_count": 41,
      "outputs": [
        {
          "output_type": "stream",
          "name": "stdout",
          "text": [
            " * sqlite:///practice.db\n",
            "Done.\n"
          ]
        },
        {
          "output_type": "execute_result",
          "data": {
            "text/plain": [
              "[(5000,)]"
            ],
            "text/html": [
              "<table>\n",
              "    <thead>\n",
              "        <tr>\n",
              "            <th>MAX(BONUS_AMOUNT)</th>\n",
              "        </tr>\n",
              "    </thead>\n",
              "    <tbody>\n",
              "        <tr>\n",
              "            <td>5000</td>\n",
              "        </tr>\n",
              "    </tbody>\n",
              "</table>"
            ]
          },
          "metadata": {},
          "execution_count": 41
        }
      ]
    },
    {
      "cell_type": "code",
      "source": [
        "%sql SELECT AVG(BONUS_AMOUNT) FROM Bonus;"
      ],
      "metadata": {
        "colab": {
          "base_uri": "https://localhost:8080/",
          "height": 96
        },
        "id": "wCLwf1iT4dqT",
        "outputId": "86ce5f6a-0a48-40bc-fa5c-6a1a273acb1f"
      },
      "execution_count": 42,
      "outputs": [
        {
          "output_type": "stream",
          "name": "stdout",
          "text": [
            " * sqlite:///practice.db\n",
            "Done.\n"
          ]
        },
        {
          "output_type": "execute_result",
          "data": {
            "text/plain": [
              "[(4000.0,)]"
            ],
            "text/html": [
              "<table>\n",
              "    <thead>\n",
              "        <tr>\n",
              "            <th>AVG(BONUS_AMOUNT)</th>\n",
              "        </tr>\n",
              "    </thead>\n",
              "    <tbody>\n",
              "        <tr>\n",
              "            <td>4000.0</td>\n",
              "        </tr>\n",
              "    </tbody>\n",
              "</table>"
            ]
          },
          "metadata": {},
          "execution_count": 42
        }
      ]
    },
    {
      "cell_type": "code",
      "source": [
        "%sql SELECT * FROM Bonus;"
      ],
      "metadata": {
        "colab": {
          "base_uri": "https://localhost:8080/",
          "height": 182
        },
        "id": "pZLGPMI5ifsB",
        "outputId": "fbdbc392-0ef3-483c-b012-19bd39d37792"
      },
      "execution_count": 43,
      "outputs": [
        {
          "output_type": "stream",
          "name": "stdout",
          "text": [
            " * sqlite:///practice.db\n",
            "Done.\n"
          ]
        },
        {
          "output_type": "execute_result",
          "data": {
            "text/plain": [
              "[(1, 5000, '16-02-20'),\n",
              " (2, 3000, '16-06-11'),\n",
              " (3, 4000, '16-02-20'),\n",
              " (1, 4500, '16-02-20'),\n",
              " (2, 3500, '16-06-11')]"
            ],
            "text/html": [
              "<table>\n",
              "    <thead>\n",
              "        <tr>\n",
              "            <th>WORKER_REF_ID</th>\n",
              "            <th>BONUS_AMOUNT</th>\n",
              "            <th>BONUS_DATE</th>\n",
              "        </tr>\n",
              "    </thead>\n",
              "    <tbody>\n",
              "        <tr>\n",
              "            <td>1</td>\n",
              "            <td>5000</td>\n",
              "            <td>16-02-20</td>\n",
              "        </tr>\n",
              "        <tr>\n",
              "            <td>2</td>\n",
              "            <td>3000</td>\n",
              "            <td>16-06-11</td>\n",
              "        </tr>\n",
              "        <tr>\n",
              "            <td>3</td>\n",
              "            <td>4000</td>\n",
              "            <td>16-02-20</td>\n",
              "        </tr>\n",
              "        <tr>\n",
              "            <td>1</td>\n",
              "            <td>4500</td>\n",
              "            <td>16-02-20</td>\n",
              "        </tr>\n",
              "        <tr>\n",
              "            <td>2</td>\n",
              "            <td>3500</td>\n",
              "            <td>16-06-11</td>\n",
              "        </tr>\n",
              "    </tbody>\n",
              "</table>"
            ]
          },
          "metadata": {},
          "execution_count": 43
        }
      ]
    },
    {
      "cell_type": "code",
      "source": [
        "# Selecting the least bonus amount and the corresponding ref_id\n",
        "\n",
        "%%sql SELECT WORKER_REF_ID, BONUS_AMOUNT as LeastBonusAmount\n",
        "FROM Bonus\n",
        "WHERE BONUS_AMOUNT = (SELECT MIN(BONUS_AMOUNT) FROM Bonus);\n"
      ],
      "metadata": {
        "colab": {
          "base_uri": "https://localhost:8080/",
          "height": 96
        },
        "id": "6sjITRMc4dlt",
        "outputId": "18cc6065-e90a-4e59-eac6-ca314ae70bb3"
      },
      "execution_count": 45,
      "outputs": [
        {
          "output_type": "stream",
          "name": "stdout",
          "text": [
            " * sqlite:///practice.db\n",
            "Done.\n"
          ]
        },
        {
          "output_type": "execute_result",
          "data": {
            "text/plain": [
              "[(2, 3000)]"
            ],
            "text/html": [
              "<table>\n",
              "    <thead>\n",
              "        <tr>\n",
              "            <th>WORKER_REF_ID</th>\n",
              "            <th>LeastBonusAmount</th>\n",
              "        </tr>\n",
              "    </thead>\n",
              "    <tbody>\n",
              "        <tr>\n",
              "            <td>2</td>\n",
              "            <td>3000</td>\n",
              "        </tr>\n",
              "    </tbody>\n",
              "</table>"
            ]
          },
          "metadata": {},
          "execution_count": 45
        }
      ]
    },
    {
      "cell_type": "markdown",
      "source": [
        "# **JOINS**"
      ],
      "metadata": {
        "id": "B9xL5uhBmwuG"
      }
    },
    {
      "cell_type": "markdown",
      "source": [
        "![image.png](data:image/png;base64,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)"
      ],
      "metadata": {
        "id": "J2mCrvC5nMkO"
      }
    },
    {
      "cell_type": "code",
      "source": [
        "%sql SELECT * FROM Bonus;"
      ],
      "metadata": {
        "colab": {
          "base_uri": "https://localhost:8080/",
          "height": 182
        },
        "id": "BC1IvfZ5nXU5",
        "outputId": "d0ae3c50-bcca-408d-a8f8-97a8fd6773e8"
      },
      "execution_count": 47,
      "outputs": [
        {
          "output_type": "stream",
          "name": "stdout",
          "text": [
            " * sqlite:///practice.db\n",
            "Done.\n"
          ]
        },
        {
          "output_type": "execute_result",
          "data": {
            "text/plain": [
              "[(1, 5000, '16-02-20'),\n",
              " (2, 3000, '16-06-11'),\n",
              " (3, 4000, '16-02-20'),\n",
              " (1, 4500, '16-02-20'),\n",
              " (2, 3500, '16-06-11')]"
            ],
            "text/html": [
              "<table>\n",
              "    <thead>\n",
              "        <tr>\n",
              "            <th>WORKER_REF_ID</th>\n",
              "            <th>BONUS_AMOUNT</th>\n",
              "            <th>BONUS_DATE</th>\n",
              "        </tr>\n",
              "    </thead>\n",
              "    <tbody>\n",
              "        <tr>\n",
              "            <td>1</td>\n",
              "            <td>5000</td>\n",
              "            <td>16-02-20</td>\n",
              "        </tr>\n",
              "        <tr>\n",
              "            <td>2</td>\n",
              "            <td>3000</td>\n",
              "            <td>16-06-11</td>\n",
              "        </tr>\n",
              "        <tr>\n",
              "            <td>3</td>\n",
              "            <td>4000</td>\n",
              "            <td>16-02-20</td>\n",
              "        </tr>\n",
              "        <tr>\n",
              "            <td>1</td>\n",
              "            <td>4500</td>\n",
              "            <td>16-02-20</td>\n",
              "        </tr>\n",
              "        <tr>\n",
              "            <td>2</td>\n",
              "            <td>3500</td>\n",
              "            <td>16-06-11</td>\n",
              "        </tr>\n",
              "    </tbody>\n",
              "</table>"
            ]
          },
          "metadata": {},
          "execution_count": 47
        }
      ]
    },
    {
      "cell_type": "code",
      "source": [
        "%sql SELECT * FROM Title;"
      ],
      "metadata": {
        "colab": {
          "base_uri": "https://localhost:8080/",
          "height": 246
        },
        "id": "YWdvU_SfncQz",
        "outputId": "7ee8e720-2928-42b4-b954-da2eb0963d9a"
      },
      "execution_count": 48,
      "outputs": [
        {
          "output_type": "stream",
          "name": "stdout",
          "text": [
            " * sqlite:///practice.db\n",
            "Done.\n"
          ]
        },
        {
          "output_type": "execute_result",
          "data": {
            "text/plain": [
              "[(1, 'Manager', '2016-02-20 00:00:00'),\n",
              " (2, 'Executive', '2016-06-11 00:00:00'),\n",
              " (8, 'Executive', '2016-06-11 00:00:00'),\n",
              " (5, 'Manager', '2016-06-11 00:00:00'),\n",
              " (4, 'Asst. Manager', '2016-06-11 00:00:00'),\n",
              " (7, 'Executive', '2016-06-11 00:00:00'),\n",
              " (6, 'Lead', '2016-06-11 00:00:00'),\n",
              " (3, 'Lead', '2016-06-11 00:00:00')]"
            ],
            "text/html": [
              "<table>\n",
              "    <thead>\n",
              "        <tr>\n",
              "            <th>WORKER_REF_ID</th>\n",
              "            <th>WORKER_TITLE</th>\n",
              "            <th>AFFECTED_FROM</th>\n",
              "        </tr>\n",
              "    </thead>\n",
              "    <tbody>\n",
              "        <tr>\n",
              "            <td>1</td>\n",
              "            <td>Manager</td>\n",
              "            <td>2016-02-20 00:00:00</td>\n",
              "        </tr>\n",
              "        <tr>\n",
              "            <td>2</td>\n",
              "            <td>Executive</td>\n",
              "            <td>2016-06-11 00:00:00</td>\n",
              "        </tr>\n",
              "        <tr>\n",
              "            <td>8</td>\n",
              "            <td>Executive</td>\n",
              "            <td>2016-06-11 00:00:00</td>\n",
              "        </tr>\n",
              "        <tr>\n",
              "            <td>5</td>\n",
              "            <td>Manager</td>\n",
              "            <td>2016-06-11 00:00:00</td>\n",
              "        </tr>\n",
              "        <tr>\n",
              "            <td>4</td>\n",
              "            <td>Asst. Manager</td>\n",
              "            <td>2016-06-11 00:00:00</td>\n",
              "        </tr>\n",
              "        <tr>\n",
              "            <td>7</td>\n",
              "            <td>Executive</td>\n",
              "            <td>2016-06-11 00:00:00</td>\n",
              "        </tr>\n",
              "        <tr>\n",
              "            <td>6</td>\n",
              "            <td>Lead</td>\n",
              "            <td>2016-06-11 00:00:00</td>\n",
              "        </tr>\n",
              "        <tr>\n",
              "            <td>3</td>\n",
              "            <td>Lead</td>\n",
              "            <td>2016-06-11 00:00:00</td>\n",
              "        </tr>\n",
              "    </tbody>\n",
              "</table>"
            ]
          },
          "metadata": {},
          "execution_count": 48
        }
      ]
    },
    {
      "cell_type": "code",
      "source": [
        "%sql SELECT * FROM Worker;"
      ],
      "metadata": {
        "colab": {
          "base_uri": "https://localhost:8080/",
          "height": 246
        },
        "id": "387_Wgqongre",
        "outputId": "a82e72f1-eb5a-4fc1-d5b6-df9f96922552"
      },
      "execution_count": 49,
      "outputs": [
        {
          "output_type": "stream",
          "name": "stdout",
          "text": [
            " * sqlite:///practice.db\n",
            "Done.\n"
          ]
        },
        {
          "output_type": "execute_result",
          "data": {
            "text/plain": [
              "[(1, 'Monika', 'Arora', 100000, '14-02-20 09.00.00', 'HR'),\n",
              " (2, 'Niharika', 'Verma', 80000, '14-06-11 09.00.00', 'Admin'),\n",
              " (3, 'Vishal', 'Singhal', 300000, '14-02-20 09.00.00', 'HR'),\n",
              " (4, 'Amitabh', 'Singh', 500000, '14-02-20 09.00.00', 'Admin'),\n",
              " (5, 'Vivek', 'Bhati', 500000, '14-06-11 09.00.00', 'Admin'),\n",
              " (6, 'Vipul', 'Diwan', 200000, '14-06-11 09.00.00', 'Account'),\n",
              " (7, 'Satish', 'Kumar', 75000, '14-01-20 09.00.00', 'Account'),\n",
              " (8, 'Geetika', 'Chauhan', 90000, '14-04-11 09.00.00', 'Admin')]"
            ],
            "text/html": [
              "<table>\n",
              "    <thead>\n",
              "        <tr>\n",
              "            <th>WORKER_ID</th>\n",
              "            <th>FIRST_NAME</th>\n",
              "            <th>LAST_NAME</th>\n",
              "            <th>SALARY</th>\n",
              "            <th>JOINING_DATE</th>\n",
              "            <th>DEPARTMENT</th>\n",
              "        </tr>\n",
              "    </thead>\n",
              "    <tbody>\n",
              "        <tr>\n",
              "            <td>1</td>\n",
              "            <td>Monika</td>\n",
              "            <td>Arora</td>\n",
              "            <td>100000</td>\n",
              "            <td>14-02-20 09.00.00</td>\n",
              "            <td>HR</td>\n",
              "        </tr>\n",
              "        <tr>\n",
              "            <td>2</td>\n",
              "            <td>Niharika</td>\n",
              "            <td>Verma</td>\n",
              "            <td>80000</td>\n",
              "            <td>14-06-11 09.00.00</td>\n",
              "            <td>Admin</td>\n",
              "        </tr>\n",
              "        <tr>\n",
              "            <td>3</td>\n",
              "            <td>Vishal</td>\n",
              "            <td>Singhal</td>\n",
              "            <td>300000</td>\n",
              "            <td>14-02-20 09.00.00</td>\n",
              "            <td>HR</td>\n",
              "        </tr>\n",
              "        <tr>\n",
              "            <td>4</td>\n",
              "            <td>Amitabh</td>\n",
              "            <td>Singh</td>\n",
              "            <td>500000</td>\n",
              "            <td>14-02-20 09.00.00</td>\n",
              "            <td>Admin</td>\n",
              "        </tr>\n",
              "        <tr>\n",
              "            <td>5</td>\n",
              "            <td>Vivek</td>\n",
              "            <td>Bhati</td>\n",
              "            <td>500000</td>\n",
              "            <td>14-06-11 09.00.00</td>\n",
              "            <td>Admin</td>\n",
              "        </tr>\n",
              "        <tr>\n",
              "            <td>6</td>\n",
              "            <td>Vipul</td>\n",
              "            <td>Diwan</td>\n",
              "            <td>200000</td>\n",
              "            <td>14-06-11 09.00.00</td>\n",
              "            <td>Account</td>\n",
              "        </tr>\n",
              "        <tr>\n",
              "            <td>7</td>\n",
              "            <td>Satish</td>\n",
              "            <td>Kumar</td>\n",
              "            <td>75000</td>\n",
              "            <td>14-01-20 09.00.00</td>\n",
              "            <td>Account</td>\n",
              "        </tr>\n",
              "        <tr>\n",
              "            <td>8</td>\n",
              "            <td>Geetika</td>\n",
              "            <td>Chauhan</td>\n",
              "            <td>90000</td>\n",
              "            <td>14-04-11 09.00.00</td>\n",
              "            <td>Admin</td>\n",
              "        </tr>\n",
              "    </tbody>\n",
              "</table>"
            ]
          },
          "metadata": {},
          "execution_count": 49
        }
      ]
    },
    {
      "cell_type": "markdown",
      "source": [
        "**Left Join**\n",
        "\n",
        "This join returns all the rows of the table on the left side of the join and matches rows for the table on the right side of the join."
      ],
      "metadata": {
        "id": "u5y4XKBrqlMM"
      }
    },
    {
      "cell_type": "code",
      "source": [
        "%%sql SELECT *\n",
        "FROM Worker\n",
        "LEFT JOIN Bonus ON Worker.WORKER_ID = Bonus.WORKER_REF_ID;\n"
      ],
      "metadata": {
        "colab": {
          "base_uri": "https://localhost:8080/",
          "height": 289
        },
        "id": "4iOKyCioqMLk",
        "outputId": "987453e7-15d9-4b01-d488-046c2bc1c407"
      },
      "execution_count": 54,
      "outputs": [
        {
          "output_type": "stream",
          "name": "stdout",
          "text": [
            " * sqlite:///practice.db\n",
            "Done.\n"
          ]
        },
        {
          "output_type": "execute_result",
          "data": {
            "text/plain": [
              "[(1, 'Monika', 'Arora', 100000, '14-02-20 09.00.00', 'HR', 1, 4500, '16-02-20'),\n",
              " (1, 'Monika', 'Arora', 100000, '14-02-20 09.00.00', 'HR', 1, 5000, '16-02-20'),\n",
              " (2, 'Niharika', 'Verma', 80000, '14-06-11 09.00.00', 'Admin', 2, 3000, '16-06-11'),\n",
              " (2, 'Niharika', 'Verma', 80000, '14-06-11 09.00.00', 'Admin', 2, 3500, '16-06-11'),\n",
              " (3, 'Vishal', 'Singhal', 300000, '14-02-20 09.00.00', 'HR', 3, 4000, '16-02-20'),\n",
              " (4, 'Amitabh', 'Singh', 500000, '14-02-20 09.00.00', 'Admin', None, None, None),\n",
              " (5, 'Vivek', 'Bhati', 500000, '14-06-11 09.00.00', 'Admin', None, None, None),\n",
              " (6, 'Vipul', 'Diwan', 200000, '14-06-11 09.00.00', 'Account', None, None, None),\n",
              " (7, 'Satish', 'Kumar', 75000, '14-01-20 09.00.00', 'Account', None, None, None),\n",
              " (8, 'Geetika', 'Chauhan', 90000, '14-04-11 09.00.00', 'Admin', None, None, None)]"
            ],
            "text/html": [
              "<table>\n",
              "    <thead>\n",
              "        <tr>\n",
              "            <th>WORKER_ID</th>\n",
              "            <th>FIRST_NAME</th>\n",
              "            <th>LAST_NAME</th>\n",
              "            <th>SALARY</th>\n",
              "            <th>JOINING_DATE</th>\n",
              "            <th>DEPARTMENT</th>\n",
              "            <th>WORKER_REF_ID</th>\n",
              "            <th>BONUS_AMOUNT</th>\n",
              "            <th>BONUS_DATE</th>\n",
              "        </tr>\n",
              "    </thead>\n",
              "    <tbody>\n",
              "        <tr>\n",
              "            <td>1</td>\n",
              "            <td>Monika</td>\n",
              "            <td>Arora</td>\n",
              "            <td>100000</td>\n",
              "            <td>14-02-20 09.00.00</td>\n",
              "            <td>HR</td>\n",
              "            <td>1</td>\n",
              "            <td>4500</td>\n",
              "            <td>16-02-20</td>\n",
              "        </tr>\n",
              "        <tr>\n",
              "            <td>1</td>\n",
              "            <td>Monika</td>\n",
              "            <td>Arora</td>\n",
              "            <td>100000</td>\n",
              "            <td>14-02-20 09.00.00</td>\n",
              "            <td>HR</td>\n",
              "            <td>1</td>\n",
              "            <td>5000</td>\n",
              "            <td>16-02-20</td>\n",
              "        </tr>\n",
              "        <tr>\n",
              "            <td>2</td>\n",
              "            <td>Niharika</td>\n",
              "            <td>Verma</td>\n",
              "            <td>80000</td>\n",
              "            <td>14-06-11 09.00.00</td>\n",
              "            <td>Admin</td>\n",
              "            <td>2</td>\n",
              "            <td>3000</td>\n",
              "            <td>16-06-11</td>\n",
              "        </tr>\n",
              "        <tr>\n",
              "            <td>2</td>\n",
              "            <td>Niharika</td>\n",
              "            <td>Verma</td>\n",
              "            <td>80000</td>\n",
              "            <td>14-06-11 09.00.00</td>\n",
              "            <td>Admin</td>\n",
              "            <td>2</td>\n",
              "            <td>3500</td>\n",
              "            <td>16-06-11</td>\n",
              "        </tr>\n",
              "        <tr>\n",
              "            <td>3</td>\n",
              "            <td>Vishal</td>\n",
              "            <td>Singhal</td>\n",
              "            <td>300000</td>\n",
              "            <td>14-02-20 09.00.00</td>\n",
              "            <td>HR</td>\n",
              "            <td>3</td>\n",
              "            <td>4000</td>\n",
              "            <td>16-02-20</td>\n",
              "        </tr>\n",
              "        <tr>\n",
              "            <td>4</td>\n",
              "            <td>Amitabh</td>\n",
              "            <td>Singh</td>\n",
              "            <td>500000</td>\n",
              "            <td>14-02-20 09.00.00</td>\n",
              "            <td>Admin</td>\n",
              "            <td>None</td>\n",
              "            <td>None</td>\n",
              "            <td>None</td>\n",
              "        </tr>\n",
              "        <tr>\n",
              "            <td>5</td>\n",
              "            <td>Vivek</td>\n",
              "            <td>Bhati</td>\n",
              "            <td>500000</td>\n",
              "            <td>14-06-11 09.00.00</td>\n",
              "            <td>Admin</td>\n",
              "            <td>None</td>\n",
              "            <td>None</td>\n",
              "            <td>None</td>\n",
              "        </tr>\n",
              "        <tr>\n",
              "            <td>6</td>\n",
              "            <td>Vipul</td>\n",
              "            <td>Diwan</td>\n",
              "            <td>200000</td>\n",
              "            <td>14-06-11 09.00.00</td>\n",
              "            <td>Account</td>\n",
              "            <td>None</td>\n",
              "            <td>None</td>\n",
              "            <td>None</td>\n",
              "        </tr>\n",
              "        <tr>\n",
              "            <td>7</td>\n",
              "            <td>Satish</td>\n",
              "            <td>Kumar</td>\n",
              "            <td>75000</td>\n",
              "            <td>14-01-20 09.00.00</td>\n",
              "            <td>Account</td>\n",
              "            <td>None</td>\n",
              "            <td>None</td>\n",
              "            <td>None</td>\n",
              "        </tr>\n",
              "        <tr>\n",
              "            <td>8</td>\n",
              "            <td>Geetika</td>\n",
              "            <td>Chauhan</td>\n",
              "            <td>90000</td>\n",
              "            <td>14-04-11 09.00.00</td>\n",
              "            <td>Admin</td>\n",
              "            <td>None</td>\n",
              "            <td>None</td>\n",
              "            <td>None</td>\n",
              "        </tr>\n",
              "    </tbody>\n",
              "</table>"
            ]
          },
          "metadata": {},
          "execution_count": 54
        }
      ]
    },
    {
      "cell_type": "code",
      "source": [
        "%%sql SELECT *\n",
        "FROM Bonus\n",
        "LEFT JOIN Worker ON Bonus.WORKER_REF_ID = Worker.WORKER_ID;\n"
      ],
      "metadata": {
        "colab": {
          "base_uri": "https://localhost:8080/",
          "height": 182
        },
        "id": "gZihOWLeogrh",
        "outputId": "855359fe-afad-4a44-b000-9949fd2bfb8a"
      },
      "execution_count": 55,
      "outputs": [
        {
          "output_type": "stream",
          "name": "stdout",
          "text": [
            " * sqlite:///practice.db\n",
            "Done.\n"
          ]
        },
        {
          "output_type": "execute_result",
          "data": {
            "text/plain": [
              "[(1, 5000, '16-02-20', 1, 'Monika', 'Arora', 100000, '14-02-20 09.00.00', 'HR'),\n",
              " (2, 3000, '16-06-11', 2, 'Niharika', 'Verma', 80000, '14-06-11 09.00.00', 'Admin'),\n",
              " (3, 4000, '16-02-20', 3, 'Vishal', 'Singhal', 300000, '14-02-20 09.00.00', 'HR'),\n",
              " (1, 4500, '16-02-20', 1, 'Monika', 'Arora', 100000, '14-02-20 09.00.00', 'HR'),\n",
              " (2, 3500, '16-06-11', 2, 'Niharika', 'Verma', 80000, '14-06-11 09.00.00', 'Admin')]"
            ],
            "text/html": [
              "<table>\n",
              "    <thead>\n",
              "        <tr>\n",
              "            <th>WORKER_REF_ID</th>\n",
              "            <th>BONUS_AMOUNT</th>\n",
              "            <th>BONUS_DATE</th>\n",
              "            <th>WORKER_ID</th>\n",
              "            <th>FIRST_NAME</th>\n",
              "            <th>LAST_NAME</th>\n",
              "            <th>SALARY</th>\n",
              "            <th>JOINING_DATE</th>\n",
              "            <th>DEPARTMENT</th>\n",
              "        </tr>\n",
              "    </thead>\n",
              "    <tbody>\n",
              "        <tr>\n",
              "            <td>1</td>\n",
              "            <td>5000</td>\n",
              "            <td>16-02-20</td>\n",
              "            <td>1</td>\n",
              "            <td>Monika</td>\n",
              "            <td>Arora</td>\n",
              "            <td>100000</td>\n",
              "            <td>14-02-20 09.00.00</td>\n",
              "            <td>HR</td>\n",
              "        </tr>\n",
              "        <tr>\n",
              "            <td>2</td>\n",
              "            <td>3000</td>\n",
              "            <td>16-06-11</td>\n",
              "            <td>2</td>\n",
              "            <td>Niharika</td>\n",
              "            <td>Verma</td>\n",
              "            <td>80000</td>\n",
              "            <td>14-06-11 09.00.00</td>\n",
              "            <td>Admin</td>\n",
              "        </tr>\n",
              "        <tr>\n",
              "            <td>3</td>\n",
              "            <td>4000</td>\n",
              "            <td>16-02-20</td>\n",
              "            <td>3</td>\n",
              "            <td>Vishal</td>\n",
              "            <td>Singhal</td>\n",
              "            <td>300000</td>\n",
              "            <td>14-02-20 09.00.00</td>\n",
              "            <td>HR</td>\n",
              "        </tr>\n",
              "        <tr>\n",
              "            <td>1</td>\n",
              "            <td>4500</td>\n",
              "            <td>16-02-20</td>\n",
              "            <td>1</td>\n",
              "            <td>Monika</td>\n",
              "            <td>Arora</td>\n",
              "            <td>100000</td>\n",
              "            <td>14-02-20 09.00.00</td>\n",
              "            <td>HR</td>\n",
              "        </tr>\n",
              "        <tr>\n",
              "            <td>2</td>\n",
              "            <td>3500</td>\n",
              "            <td>16-06-11</td>\n",
              "            <td>2</td>\n",
              "            <td>Niharika</td>\n",
              "            <td>Verma</td>\n",
              "            <td>80000</td>\n",
              "            <td>14-06-11 09.00.00</td>\n",
              "            <td>Admin</td>\n",
              "        </tr>\n",
              "    </tbody>\n",
              "</table>"
            ]
          },
          "metadata": {},
          "execution_count": 55
        }
      ]
    },
    {
      "cell_type": "markdown",
      "source": [
        "**Right Join**\n",
        "\n",
        "This join returns all the rows of the table on the right side of the join and matching rows for the table on the left side of the join\n"
      ],
      "metadata": {
        "id": "V28AwB4hqw4b"
      }
    },
    {
      "cell_type": "code",
      "source": [
        "%%sql SELECT *\n",
        "FROM Worker\n",
        "RIGHT JOIN Bonus ON Worker.WORKER_ID = Bonus.WORKER_REF_ID;"
      ],
      "metadata": {
        "colab": {
          "base_uri": "https://localhost:8080/"
        },
        "id": "ju2252l3m-z6",
        "outputId": "28060fe5-3923-4159-89ec-228f72b57638"
      },
      "execution_count": 56,
      "outputs": [
        {
          "output_type": "stream",
          "name": "stdout",
          "text": [
            " * sqlite:///practice.db\n",
            "(sqlite3.OperationalError) RIGHT and FULL OUTER JOINs are not currently supported\n",
            "[SQL: SELECT *\n",
            "FROM Worker\n",
            "RIGHT JOIN Bonus ON Worker.WORKER_ID = Bonus.WORKER_REF_ID;]\n",
            "(Background on this error at: https://sqlalche.me/e/20/e3q8)\n"
          ]
        }
      ]
    },
    {
      "cell_type": "code",
      "source": [
        "%%sql SELECT *\n",
        "FROM Bonus\n",
        "RIGHT JOIN Worker ON Bonus.WORKER_REF_ID = Worker.WORKER_ID;"
      ],
      "metadata": {
        "colab": {
          "base_uri": "https://localhost:8080/"
        },
        "id": "IUQka6mUm-xI",
        "outputId": "39ba6080-0fa6-4483-80ab-9dd752242e09"
      },
      "execution_count": 57,
      "outputs": [
        {
          "output_type": "stream",
          "name": "stdout",
          "text": [
            " * sqlite:///practice.db\n",
            "(sqlite3.OperationalError) RIGHT and FULL OUTER JOINs are not currently supported\n",
            "[SQL: SELECT *\n",
            "FROM Bonus\n",
            "RIGHT JOIN Worker ON Bonus.WORKER_REF_ID = Worker.WORKER_ID;]\n",
            "(Background on this error at: https://sqlalche.me/e/20/e3q8)\n"
          ]
        }
      ]
    },
    {
      "cell_type": "code",
      "source": [
        "%%sql SELECT *\n",
        "FROM Worker\n",
        "RIGHT JOIN Bonus ON Worker.WORKER_ID = Bonus.WORKER_REF_ID;\n"
      ],
      "metadata": {
        "colab": {
          "base_uri": "https://localhost:8080/"
        },
        "id": "Hf0wPeyFm-vO",
        "outputId": "a0b4d785-2d0f-49ef-8897-d4f119b32b75"
      },
      "execution_count": 58,
      "outputs": [
        {
          "output_type": "stream",
          "name": "stdout",
          "text": [
            " * sqlite:///practice.db\n",
            "(sqlite3.OperationalError) RIGHT and FULL OUTER JOINs are not currently supported\n",
            "[SQL: SELECT *\n",
            "FROM Worker\n",
            "RIGHT JOIN Bonus ON Worker.WORKER_ID = Bonus.WORKER_REF_ID;]\n",
            "(Background on this error at: https://sqlalche.me/e/20/e3q8)\n"
          ]
        }
      ]
    },
    {
      "cell_type": "markdown",
      "source": [
        "**Inner Join**\n",
        "\n",
        "The INNER JOIN keyword selects all rows from both the tables as long as the condition is satisfied"
      ],
      "metadata": {
        "id": "vilhwvCjtiRG"
      }
    },
    {
      "cell_type": "code",
      "source": [
        "# Inner Join\n",
        "\n",
        "%%sql SELECT *\n",
        "FROM Worker\n",
        "INNER JOIN Bonus ON Worker.WORKER_ID = Bonus.WORKER_REF_ID;\n"
      ],
      "metadata": {
        "colab": {
          "base_uri": "https://localhost:8080/",
          "height": 182
        },
        "id": "Q-A6pDH1m-sQ",
        "outputId": "ca43db49-73d7-4a9d-b46b-db8cac6bda48"
      },
      "execution_count": 59,
      "outputs": [
        {
          "output_type": "stream",
          "name": "stdout",
          "text": [
            " * sqlite:///practice.db\n",
            "Done.\n"
          ]
        },
        {
          "output_type": "execute_result",
          "data": {
            "text/plain": [
              "[(1, 'Monika', 'Arora', 100000, '14-02-20 09.00.00', 'HR', 1, 5000, '16-02-20'),\n",
              " (2, 'Niharika', 'Verma', 80000, '14-06-11 09.00.00', 'Admin', 2, 3000, '16-06-11'),\n",
              " (3, 'Vishal', 'Singhal', 300000, '14-02-20 09.00.00', 'HR', 3, 4000, '16-02-20'),\n",
              " (1, 'Monika', 'Arora', 100000, '14-02-20 09.00.00', 'HR', 1, 4500, '16-02-20'),\n",
              " (2, 'Niharika', 'Verma', 80000, '14-06-11 09.00.00', 'Admin', 2, 3500, '16-06-11')]"
            ],
            "text/html": [
              "<table>\n",
              "    <thead>\n",
              "        <tr>\n",
              "            <th>WORKER_ID</th>\n",
              "            <th>FIRST_NAME</th>\n",
              "            <th>LAST_NAME</th>\n",
              "            <th>SALARY</th>\n",
              "            <th>JOINING_DATE</th>\n",
              "            <th>DEPARTMENT</th>\n",
              "            <th>WORKER_REF_ID</th>\n",
              "            <th>BONUS_AMOUNT</th>\n",
              "            <th>BONUS_DATE</th>\n",
              "        </tr>\n",
              "    </thead>\n",
              "    <tbody>\n",
              "        <tr>\n",
              "            <td>1</td>\n",
              "            <td>Monika</td>\n",
              "            <td>Arora</td>\n",
              "            <td>100000</td>\n",
              "            <td>14-02-20 09.00.00</td>\n",
              "            <td>HR</td>\n",
              "            <td>1</td>\n",
              "            <td>5000</td>\n",
              "            <td>16-02-20</td>\n",
              "        </tr>\n",
              "        <tr>\n",
              "            <td>2</td>\n",
              "            <td>Niharika</td>\n",
              "            <td>Verma</td>\n",
              "            <td>80000</td>\n",
              "            <td>14-06-11 09.00.00</td>\n",
              "            <td>Admin</td>\n",
              "            <td>2</td>\n",
              "            <td>3000</td>\n",
              "            <td>16-06-11</td>\n",
              "        </tr>\n",
              "        <tr>\n",
              "            <td>3</td>\n",
              "            <td>Vishal</td>\n",
              "            <td>Singhal</td>\n",
              "            <td>300000</td>\n",
              "            <td>14-02-20 09.00.00</td>\n",
              "            <td>HR</td>\n",
              "            <td>3</td>\n",
              "            <td>4000</td>\n",
              "            <td>16-02-20</td>\n",
              "        </tr>\n",
              "        <tr>\n",
              "            <td>1</td>\n",
              "            <td>Monika</td>\n",
              "            <td>Arora</td>\n",
              "            <td>100000</td>\n",
              "            <td>14-02-20 09.00.00</td>\n",
              "            <td>HR</td>\n",
              "            <td>1</td>\n",
              "            <td>4500</td>\n",
              "            <td>16-02-20</td>\n",
              "        </tr>\n",
              "        <tr>\n",
              "            <td>2</td>\n",
              "            <td>Niharika</td>\n",
              "            <td>Verma</td>\n",
              "            <td>80000</td>\n",
              "            <td>14-06-11 09.00.00</td>\n",
              "            <td>Admin</td>\n",
              "            <td>2</td>\n",
              "            <td>3500</td>\n",
              "            <td>16-06-11</td>\n",
              "        </tr>\n",
              "    </tbody>\n",
              "</table>"
            ]
          },
          "metadata": {},
          "execution_count": 59
        }
      ]
    },
    {
      "cell_type": "markdown",
      "source": [
        "**Full Join**\n",
        "\n",
        " The result-set will contain all the rows from both tables."
      ],
      "metadata": {
        "id": "JLLkMy0Etlp4"
      }
    },
    {
      "cell_type": "code",
      "source": [
        "# Full JOIN\n",
        "\n",
        "%%sql SELECT *\n",
        "FROM Worker\n",
        "FULL OUTER JOIN Bonus ON Worker.WORKER_ID = Bonus.WORKER_REF_ID;\n"
      ],
      "metadata": {
        "colab": {
          "base_uri": "https://localhost:8080/"
        },
        "id": "ROVVnt_Jm-py",
        "outputId": "8db3306c-3c48-473f-b539-2d2f1620ba9f"
      },
      "execution_count": 60,
      "outputs": [
        {
          "output_type": "stream",
          "name": "stdout",
          "text": [
            " * sqlite:///practice.db\n",
            "(sqlite3.OperationalError) RIGHT and FULL OUTER JOINs are not currently supported\n",
            "[SQL: SELECT *\n",
            "FROM Worker\n",
            "FULL OUTER JOIN Bonus ON Worker.WORKER_ID = Bonus.WORKER_REF_ID;]\n",
            "(Background on this error at: https://sqlalche.me/e/20/e3q8)\n"
          ]
        }
      ]
    }
  ]
}